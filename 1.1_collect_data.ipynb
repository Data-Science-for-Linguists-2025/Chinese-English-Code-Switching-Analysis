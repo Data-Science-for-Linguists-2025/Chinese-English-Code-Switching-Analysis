{
 "cells": [
  {
   "cell_type": "markdown",
   "metadata": {},
   "source": [
    "# Data collection: Chinese Stack Exchange\n",
    "\n",
    "**Contents**\n",
    "1. [Experiment and understand API](#1-experiment-and-understand-api)\n",
    "2. [Collect Chinese stack exchange data](#2-collect-chinese-stack-exchange-data)\n",
    "\n",
    "The participants in this study are users of a Chinese language-focused Stack \n",
    "Exchange site, contributing to an exploration of Chinese-English code-switching. \n",
    "The core participants include Chinese-English bilinguals, individuals fluent \n",
    "in both languages who engage in code-switching as part of their communication. \n",
    "These users often navigate the complexities of using both languages in the \n",
    "same context, sharing insights into language mixing and code-switching patterns. \n",
    "Additionally, Chinese students studying abroad contribute to this phenomenon, \n",
    "as they frequently switch between Chinese and English in academic \n",
    "and social settings, seeking clarification or engagement in both languages.\n",
    "\n",
    "Another important group comprises non-Chinese learners of Chinese, who, \n",
    "while primarily focused on learning Chinese, may also engage in code-switching \n",
    "when seeking answers or discussing language-related topics in a bilingual context. \n",
    "Language enthusiasts and educators with expertise in Chinese or bilingualism also \n",
    "provide valuable contributions, \n",
    "often reflecting on the linguistic and cultural aspects of code-switching. \n",
    "These participants, with their varied linguistic backgrounds, offer rich data \n",
    "for understanding the dynamics of Chinese-English code-switching in a global, \n",
    "online learning environment."
   ]
  },
  {
   "cell_type": "code",
   "execution_count": 1,
   "metadata": {},
   "outputs": [],
   "source": [
    "# Import libraries\n",
    "import requests\n",
    "import pandas as pd\n",
    "import numpy as np\n",
    "import time\n",
    "import private.config as config"
   ]
  },
  {
   "cell_type": "markdown",
   "metadata": {},
   "source": [
    "## 1. Experiment and understand API"
   ]
  },
  {
   "cell_type": "code",
   "execution_count": 2,
   "metadata": {},
   "outputs": [],
   "source": [
    "# define API endpoint\n",
    "def get_stack_exchange_data(url):\n",
    "    response = requests.get(url)\n",
    "    # check if the response is successful\n",
    "    if response.status_code != 200:\n",
    "        raise ValueError(f\"Invalid response: {response.status_code}\")\n",
    "    return response.json()\n",
    "\n",
    "stack_exchange_url = \"https://api.stackexchange.com/2.3/questions?site=chinese\"\n",
    "data_stack_ex = get_stack_exchange_data(stack_exchange_url)"
   ]
  },
  {
   "cell_type": "code",
   "execution_count": 3,
   "metadata": {},
   "outputs": [
    {
     "name": "stdout",
     "output_type": "stream",
     "text": [
      "dict_keys(['items', 'has_more', 'quota_max', 'quota_remaining'])\n"
     ]
    }
   ],
   "source": [
    "# understand the structure of the data\n",
    "print(data_stack_ex.keys())"
   ]
  },
  {
   "cell_type": "code",
   "execution_count": 4,
   "metadata": {},
   "outputs": [
    {
     "data": {
      "text/plain": [
       "{'tags': ['translation', 'poetry'],\n",
       " 'owner': {'account_id': 1347685,\n",
       "  'reputation': 1524,\n",
       "  'user_id': 11269,\n",
       "  'user_type': 'registered',\n",
       "  'accept_rate': 58,\n",
       "  'profile_image': 'https://www.gravatar.com/avatar/c6223a208ab21a3a745704c6823aa2c2?s=256&d=identicon&r=PG',\n",
       "  'display_name': 'Starnuto di topo',\n",
       "  'link': 'https://chinese.stackexchange.com/users/11269/starnuto-di-topo'},\n",
       " 'is_answered': True,\n",
       " 'view_count': 31,\n",
       " 'answer_count': 1,\n",
       " 'score': 0,\n",
       " 'last_activity_date': 1739899113,\n",
       " 'creation_date': 1739799170,\n",
       " 'question_id': 59815,\n",
       " 'content_license': 'CC BY-SA 4.0',\n",
       " 'link': 'https://chinese.stackexchange.com/questions/59815/my-translation-of-li-bais-%e4%b8%89%e4%ba%94%e4%b8%83%e8%a8%80',\n",
       " 'title': 'My translation of Li Bai&#39;s 《三五七言》'}"
      ]
     },
     "execution_count": 4,
     "metadata": {},
     "output_type": "execute_result"
    }
   ],
   "source": [
    "data_stack_ex['items'][0]"
   ]
  },
  {
   "cell_type": "code",
   "execution_count": 5,
   "metadata": {},
   "outputs": [
    {
     "data": {
      "text/plain": [
       "dict_keys(['tags', 'owner', 'is_answered', 'view_count', 'answer_count', 'score', 'last_activity_date', 'creation_date', 'question_id', 'content_license', 'link', 'title'])"
      ]
     },
     "execution_count": 5,
     "metadata": {},
     "output_type": "execute_result"
    }
   ],
   "source": [
    "data_stack_ex['items'][0].keys()"
   ]
  },
  {
   "cell_type": "code",
   "execution_count": 6,
   "metadata": {},
   "outputs": [
    {
     "name": "stdout",
     "output_type": "stream",
     "text": [
      "data_stack_ex[items][0][tags]\n",
      "['translation', 'poetry']\n",
      "data_stack_ex[items][0][title]\n",
      "My translation of Li Bai&#39;s 《三五七言》\n"
     ]
    }
   ],
   "source": [
    "print('data_stack_ex[items][0][tags]')\n",
    "print(data_stack_ex['items'][0]['tags'])\n",
    "print('data_stack_ex[items][0][title]')\n",
    "print(data_stack_ex['items'][0]['title'])"
   ]
  },
  {
   "cell_type": "code",
   "execution_count": 7,
   "metadata": {},
   "outputs": [
    {
     "name": "stdout",
     "output_type": "stream",
     "text": [
      "data_stack_ex[items] number: \n",
      "30\n"
     ]
    }
   ],
   "source": [
    "print('data_stack_ex[items] number: ')\n",
    "print(len(data_stack_ex['items']))"
   ]
  },
  {
   "cell_type": "code",
   "execution_count": 8,
   "metadata": {},
   "outputs": [
    {
     "name": "stdout",
     "output_type": "stream",
     "text": [
      "200 {'items': [{'new_active_users': 0, 'total_users': 32226, 'badges_per_minute': 0.01, 'total_badges': 41320, 'total_votes': 109886, 'total_comments': 58981, 'answers_per_minute': 0.0, 'questions_per_minute': 0.0, 'total_answers': 30141, 'total_accepted': 7065, 'total_unanswered': 192, 'total_questions': 12041, 'api_revision': '2025.2.12.45337'}], 'has_more': False, 'quota_max': 10000, 'quota_remaining': 9999}\n"
     ]
    }
   ],
   "source": [
    "# Test the API key\n",
    "API_KEY = config.STACK_EXCHANGE_API_KEY  \n",
    "TEST_URL = f\"https://api.stackexchange.com/2.3/info?site=chinese&key={API_KEY}\"\n",
    "\n",
    "response = requests.get(TEST_URL)\n",
    "print(response.status_code, response.json())"
   ]
  },
  {
   "cell_type": "markdown",
   "metadata": {},
   "source": [
    "## 2. Collect Chinese Stack Exchange data"
   ]
  },
  {
   "cell_type": "code",
   "execution_count": null,
   "metadata": {},
   "outputs": [],
   "source": [
    "# Base URL for Stack Exchange API (Chinese Stack Exchange)\n",
    "BASE_URL = \"https://api.stackexchange.com/2.3\"\n",
    "API_KEY = config.STACK_EXCHANGE_API_KEY  \n",
    "\n",
    "def fetch_questions_with_tags(site=\"chinese\", page_size=100, retries=3):\n",
    "    \"\"\"\n",
    "    Fetches all questions with their tags from the Stack Exchange API.\n",
    "\n",
    "    :param site: The Stack Exchange site (default: \"chinese\")\n",
    "    :param page_size: Number of questions per page (max 100)\n",
    "    :param retries: Number of retry attempts for failed requests\n",
    "    :return: List of all questions with tags\n",
    "    \"\"\"\n",
    "    questions = []\n",
    "    page = 1\n",
    "\n",
    "    while True:\n",
    "        url = (f\"{BASE_URL}/questions?order=desc&sort=activity&site={site}\" +\n",
    "                f\"&pagesize={page_size}&page={page}&filter=!nKzQURF6Y5&key={API_KEY}\")\n",
    "\n",
    "        attempt = 0\n",
    "\n",
    "        while attempt < retries:\n",
    "            try:\n",
    "                response = requests.get(url, timeout=20)\n",
    "                if response.status_code == 200:\n",
    "                    data = response.json()\n",
    "                    for item in data.get(\"items\", []):\n",
    "                        questions.append({\n",
    "                            \"question_id\": item[\"question_id\"],\n",
    "                            \"title\": item[\"title\"],\n",
    "                            \"tags\": \", \".join(item[\"tags\"])\n",
    "                        })\n",
    "\n",
    "                    if not data.get(\"has_more\", False):\n",
    "                        print(f\"Finished fetching all questions at page {page}\")\n",
    "                        return questions\n",
    "\n",
    "                    break  # Break retry loop if successful\n",
    "\n",
    "                else:\n",
    "                    print(f\"Error fetching page {page} (attempt {attempt+1}): \n",
    "                                                        {response.status_code}\")\n",
    "                    return questions  # Return what we have so far\n",
    "\n",
    "            except requests.exceptions.RequestException as e:\n",
    "                print(f\"Request failed for page {page} \n",
    "                                            (attempt {attempt+1}): {e}\")\n",
    "\n",
    "            attempt += 1\n",
    "            # Random sleep to prevent rate limiting\n",
    "            time.sleep(np.random.randint(3, 10))  \n",
    "\n",
    "        page += 1  # Move to the next page\n",
    "        time.sleep(np.random.randint(3, 10))  \n",
    "\n",
    "    return questions\n"
   ]
  },
  {
   "cell_type": "code",
   "execution_count": 10,
   "metadata": {},
   "outputs": [
    {
     "name": "stdout",
     "output_type": "stream",
     "text": [
      "Finished fetching all questions at page 121\n",
      "Data collection completed in 00:12:51\n",
      "Data saved to private/stack_exchange_all_questions.csv\n"
     ]
    }
   ],
   "source": [
    "# Function to run the full data collection pipeline\n",
    "def run_data_collection_pipeline(site=\"chinese\", page_size=100):\n",
    "    \"\"\"\n",
    "    Runs the data collection pipeline, fetching all questions and saving them to a CSV file.\n",
    "\n",
    "    :param site: The Stack Exchange site (default: \"chinese\")\n",
    "    :param page_size: Number of questions per page (max 100)\n",
    "    \"\"\"\n",
    "    start_time = time.time()\n",
    "    questions = fetch_questions_with_tags(site=site, page_size=page_size)\n",
    "    end_time = time.time()\n",
    "\n",
    "    # Calculate and print the time taken\n",
    "    elapsed_time = end_time - start_time\n",
    "    elapsed_str = time.strftime(\"%H:%M:%S\", time.gmtime(elapsed_time))\n",
    "    print(f\"Data collection completed in {elapsed_str}\")\n",
    "\n",
    "    # Convert to DataFrame and save to CSV\n",
    "    questions_df = pd.DataFrame(questions)\n",
    "    questions_df.head()\n",
    "    file_path = \"private/stack_exchange_all_questions.csv\"\n",
    "    # Save the data to a CSV file, and overwrite if it already exists\n",
    "    questions_df.to_csv(file_path, index=False)\n",
    "    print(f\"Data saved to {file_path}\")\n",
    "\n",
    "# Run the full data collection pipeline\n",
    "run_data_collection_pipeline(page_size=100)"
   ]
  }
 ],
 "metadata": {
  "kernelspec": {
   "display_name": "Python 3",
   "language": "python",
   "name": "python3"
  },
  "language_info": {
   "codemirror_mode": {
    "name": "ipython",
    "version": 3
   },
   "file_extension": ".py",
   "mimetype": "text/x-python",
   "name": "python",
   "nbconvert_exporter": "python",
   "pygments_lexer": "ipython3",
   "version": "3.10.4"
  }
 },
 "nbformat": 4,
 "nbformat_minor": 2
}
