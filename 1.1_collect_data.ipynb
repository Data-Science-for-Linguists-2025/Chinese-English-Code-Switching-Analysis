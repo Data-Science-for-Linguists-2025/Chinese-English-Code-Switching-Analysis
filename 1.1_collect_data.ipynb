{
 "cells": [
  {
   "cell_type": "markdown",
   "metadata": {},
   "source": [
    "# Data collection 1: Chinese Stack Exchange\n",
    "\n",
    "**Contents**\n",
    "1. [Experiment and understand API](#1-experiment-and-understand-api)\n",
    "2. [Collect Chinese stack exchange data](#2-collect-chinese-stack-exchange-data)"
   ]
  },
  {
   "cell_type": "code",
   "execution_count": 6,
   "metadata": {},
   "outputs": [],
   "source": [
    "\n",
    "# Import libraries\n",
    "import requests\n",
    "import pandas as pd\n",
    "import numpy as np\n",
    "import time\n",
    "import datetime\n",
    "import private.config as config"
   ]
  },
  {
   "cell_type": "markdown",
   "metadata": {},
   "source": [
    "## 1. Experiment and understand API"
   ]
  },
  {
   "cell_type": "code",
   "execution_count": 7,
   "metadata": {},
   "outputs": [],
   "source": [
    "# define API endpoint\n",
    "def get_stack_exchange_data(url):\n",
    "    response = requests.get(url)\n",
    "    # check if the response is successful\n",
    "    if response.status_code != 200:\n",
    "        raise ValueError(f\"Invalid response: {response.status_code}\")\n",
    "    return response.json()\n",
    "\n",
    "stack_exchange_url = \"https://api.stackexchange.com/2.3/questions?site=chinese\"\n",
    "data_stack_ex = get_stack_exchange_data(stack_exchange_url)"
   ]
  },
  {
   "cell_type": "code",
   "execution_count": 8,
   "metadata": {},
   "outputs": [
    {
     "name": "stdout",
     "output_type": "stream",
     "text": [
      "dict_keys(['items', 'has_more', 'quota_max', 'quota_remaining'])\n"
     ]
    }
   ],
   "source": [
    "# understand the structure of the data\n",
    "print(data_stack_ex.keys())"
   ]
  },
  {
   "cell_type": "code",
   "execution_count": 9,
   "metadata": {},
   "outputs": [
    {
     "data": {
      "text/plain": [
       "{'tags': ['number'],\n",
       " 'owner': {'account_id': 40155193,\n",
       "  'reputation': 11,\n",
       "  'user_id': 43136,\n",
       "  'user_type': 'unregistered',\n",
       "  'profile_image': 'https://www.gravatar.com/avatar/dabda9566ce28a8e089c6e1773dbad65?s=256&d=identicon&r=PG&f=y&so-version=2',\n",
       "  'display_name': 'xiaoli',\n",
       "  'link': 'https://chinese.stackexchange.com/users/43136/xiaoli'},\n",
       " 'is_answered': True,\n",
       " 'view_count': 37,\n",
       " 'answer_count': 3,\n",
       " 'score': 0,\n",
       " 'last_activity_date': 1739566729,\n",
       " 'creation_date': 1739493399,\n",
       " 'last_edit_date': 1739513897,\n",
       " 'question_id': 59797,\n",
       " 'content_license': 'CC BY-SA 4.0',\n",
       " 'link': 'https://chinese.stackexchange.com/questions/59797/how-do-you-say-46-66',\n",
       " 'title': 'How do you say 46.66%?'}"
      ]
     },
     "execution_count": 9,
     "metadata": {},
     "output_type": "execute_result"
    }
   ],
   "source": [
    "data_stack_ex['items'][0]"
   ]
  },
  {
   "cell_type": "code",
   "execution_count": 10,
   "metadata": {},
   "outputs": [
    {
     "data": {
      "text/plain": [
       "dict_keys(['tags', 'owner', 'is_answered', 'view_count', 'answer_count', 'score', 'last_activity_date', 'creation_date', 'last_edit_date', 'question_id', 'content_license', 'link', 'title'])"
      ]
     },
     "execution_count": 10,
     "metadata": {},
     "output_type": "execute_result"
    }
   ],
   "source": [
    "data_stack_ex['items'][0].keys()"
   ]
  },
  {
   "cell_type": "code",
   "execution_count": 11,
   "metadata": {},
   "outputs": [
    {
     "name": "stdout",
     "output_type": "stream",
     "text": [
      "data_stack_ex[items][0][tags]\n",
      "['number']\n",
      "data_stack_ex[items][0][title]\n",
      "How do you say 46.66%?\n"
     ]
    }
   ],
   "source": [
    "print('data_stack_ex[items][0][tags]')\n",
    "print(data_stack_ex['items'][0]['tags'])\n",
    "print('data_stack_ex[items][0][title]')\n",
    "print(data_stack_ex['items'][0]['title'])"
   ]
  },
  {
   "cell_type": "code",
   "execution_count": 12,
   "metadata": {},
   "outputs": [
    {
     "name": "stdout",
     "output_type": "stream",
     "text": [
      "data_stack_ex[items] number: \n",
      "30\n"
     ]
    }
   ],
   "source": [
    "print('data_stack_ex[items] number: ')\n",
    "print(len(data_stack_ex['items']))"
   ]
  },
  {
   "cell_type": "code",
   "execution_count": 16,
   "metadata": {},
   "outputs": [
    {
     "name": "stdout",
     "output_type": "stream",
     "text": [
      "200 {'items': [{'new_active_users': 0, 'total_users': 32169, 'badges_per_minute': 0.01, 'total_badges': 41298, 'total_votes': 109854, 'total_comments': 58940, 'answers_per_minute': 0.0, 'questions_per_minute': 0.0, 'total_answers': 30128, 'total_accepted': 7062, 'total_unanswered': 191, 'total_questions': 12036, 'api_revision': '2025.2.12.45337'}], 'has_more': False, 'quota_max': 300, 'quota_remaining': 164}\n"
     ]
    }
   ],
   "source": [
    "# Test the API key\n",
    "API_KEY = config.STACK_EXCHANGE_API_KEY  \n",
    "TEST_URL = f\"https://api.stackexchange.com/2.3/info?site=chinese&key={API_KEY}\"\n",
    "\n",
    "response = requests.get(TEST_URL)\n",
    "print(response.status_code, response.json())"
   ]
  },
  {
   "cell_type": "markdown",
   "metadata": {},
   "source": [
    "## 2. Collect Chinese Stack Exchange data"
   ]
  },
  {
   "cell_type": "code",
   "execution_count": null,
   "metadata": {},
   "outputs": [],
   "source": [
    "# Base URL for Stack Exchange API (Chinese Stack Exchange)\n",
    "BASE_URL = \"https://api.stackexchange.com/2.3\"\n",
    "API_KEY = config.STACK_EXCHANGE_API_KEY  \n",
    "\n",
    "def fetch_questions_with_tags(site=\"chinese\", page_size=100, retries=3):\n",
    "    \"\"\"\n",
    "    Fetches all questions with their tags from the Stack Exchange API.\n",
    "\n",
    "    :param site: The Stack Exchange site (default: \"chinese\")\n",
    "    :param page_size: Number of questions per page (max 100)\n",
    "    :param retries: Number of retry attempts for failed requests\n",
    "    :return: List of all questions with tags\n",
    "    \"\"\"\n",
    "    questions = []\n",
    "    page = 1\n",
    "\n",
    "    while True:\n",
    "        url = (f\"{BASE_URL}/questions?order=desc&sort=activity&site={site}\" +\n",
    "                f\"&pagesize={page_size}&page={page}&filter=!nKzQURF6Y5&key={API_KEY}\")\n",
    "\n",
    "        attempt = 0\n",
    "\n",
    "        while attempt < retries:\n",
    "            try:\n",
    "                response = requests.get(url, timeout=20)\n",
    "                if response.status_code == 200:\n",
    "                    data = response.json()\n",
    "                    for item in data.get(\"items\", []):\n",
    "                        questions.append({\n",
    "                            \"question_id\": item[\"question_id\"],\n",
    "                            \"title\": item[\"title\"],\n",
    "                            \"tags\": \", \".join(item[\"tags\"])\n",
    "                        })\n",
    "\n",
    "                    if not data.get(\"has_more\", False):\n",
    "                        print(f\"✅ Finished fetching all questions at page {page}\")\n",
    "                        return questions\n",
    "\n",
    "                    break  # Break retry loop if successful\n",
    "\n",
    "                else:\n",
    "                    print(f\"Error fetching page {page} (attempt {attempt+1}): {response.status_code}\")\n",
    "                    return questions  # Return what we have so far\n",
    "\n",
    "            except requests.exceptions.RequestException as e:\n",
    "                print(f\"Request failed for page {page} (attempt {attempt+1}): {e}\")\n",
    "\n",
    "            attempt += 1\n",
    "            time.sleep(np.random.randint(3, 10))  # Random sleep to prevent rate limiting\n",
    "\n",
    "        page += 1  # Move to the next page\n",
    "        time.sleep(np.random.randint(3, 10))  # Random sleep to prevent rate limiting\n",
    "\n",
    "    return questions\n"
   ]
  },
  {
   "cell_type": "code",
   "execution_count": 18,
   "metadata": {},
   "outputs": [
    {
     "name": "stdout",
     "output_type": "stream",
     "text": [
      "Error fetching page 26 (attempt 1): 400\n",
      "Data collection completed in 00:02:30\n",
      "Data saved to private/stack_exchange_all_questions.csv\n"
     ]
    }
   ],
   "source": [
    "# Function to run the full data collection pipeline\n",
    "def run_data_collection_pipeline(site=\"chinese\", page_size=100):\n",
    "    \"\"\"\n",
    "    Runs the data collection pipeline, fetching all questions and saving them to a CSV file.\n",
    "\n",
    "    :param site: The Stack Exchange site (default: \"chinese\")\n",
    "    :param page_size: Number of questions per page (max 100)\n",
    "    \"\"\"\n",
    "    start_time = time.time()\n",
    "    questions = fetch_questions_with_tags(site=site, page_size=page_size)\n",
    "    end_time = time.time()\n",
    "\n",
    "    # Calculate and print the time taken\n",
    "    elapsed_time = end_time - start_time\n",
    "    elapsed_str = time.strftime(\"%H:%M:%S\", time.gmtime(elapsed_time))\n",
    "    print(f\"Data collection completed in {elapsed_str}\")\n",
    "\n",
    "    # Convert to DataFrame and save to CSV\n",
    "    questions_df = pd.DataFrame(questions)\n",
    "    questions_df.head()\n",
    "    file_path = \"private/stack_exchange_all_questions.csv\"\n",
    "    # Save the data to a CSV file, and overwrite if it already exists\n",
    "    questions_df.to_csv(file_path, index=False)\n",
    "    print(f\"Data saved to {file_path}\")\n",
    "\n",
    "# Run the full data collection pipeline\n",
    "run_data_collection_pipeline(page_size=100)"
   ]
  }
 ],
 "metadata": {
  "kernelspec": {
   "display_name": "Python 3",
   "language": "python",
   "name": "python3"
  },
  "language_info": {
   "codemirror_mode": {
    "name": "ipython",
    "version": 3
   },
   "file_extension": ".py",
   "mimetype": "text/x-python",
   "name": "python",
   "nbconvert_exporter": "python",
   "pygments_lexer": "ipython3",
   "version": "3.10.4"
  }
 },
 "nbformat": 4,
 "nbformat_minor": 2
}
