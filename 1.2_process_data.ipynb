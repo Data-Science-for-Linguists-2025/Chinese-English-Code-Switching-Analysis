{
 "cells": [
  {
   "cell_type": "markdown",
   "metadata": {},
   "source": [
    "# Data Processing\n",
    "\n",
    "Qidu Fu\n",
    "\n",
    "**Contents**\n",
    "- [0 Introduce data](#0-introduce-data-and-import-libraries)\n",
    "- [1 Load data](#1-load-data)\n",
    "    - [1.1 Get stack exchange data](#11-get-stack-exchange-data)\n",
    "    - [1.2 Get SEAME data](#12-get-seame-data-development-dataset)\n",
    "    - [1.3 Get ASCEND data](#13-get-ascend-data)\n",
    "- [2 Process the stack exchange data: the title column](#2-process-the-stack-exchange-data-the-title-column)\n",
    "- [3 Process the stack exchange data: the tags and title column](#3-process-the-stack-exchange-tags-and-title-columns)\n",
    "- [4 Get basic information: cleaned stack exchange dataset](#4-get-basic-information-cleaned-stack-exchange-dataset)"
   ]
  },
  {
   "cell_type": "markdown",
   "metadata": {},
   "source": [
    "## 0 Import libraries\n",
    "\n"
   ]
  },
  {
   "cell_type": "code",
   "execution_count": 57,
   "metadata": {},
   "outputs": [],
   "source": [
    "# import libraries\n",
    "import pandas as pd\n",
    "import numpy as np\n",
    "import matplotlib.pyplot as plt\n",
    "import seaborn as sns\n",
    "import ssl\n",
    "import datasets\n",
    "import re"
   ]
  },
  {
   "cell_type": "markdown",
   "metadata": {},
   "source": [
    "## 1 Load data"
   ]
  },
  {
   "cell_type": "markdown",
   "metadata": {},
   "source": [
    "### 1.1 Get stack exchange data\n",
    "Observations\n",
    "- 1. Not NULL values in the data\n",
    "- 2. The dataset include 12401 records/rows and 3 columns"
   ]
  },
  {
   "cell_type": "code",
   "execution_count": 58,
   "metadata": {},
   "outputs": [
    {
     "name": "stdout",
     "output_type": "stream",
     "text": [
      "<class 'pandas.core.frame.DataFrame'>\n",
      "RangeIndex: 12041 entries, 0 to 12040\n",
      "Data columns (total 3 columns):\n",
      " #   Column       Non-Null Count  Dtype \n",
      "---  ------       --------------  ----- \n",
      " 0   question_id  12041 non-null  int64 \n",
      " 1   title        12041 non-null  object\n",
      " 2   tags         12041 non-null  object\n",
      "dtypes: int64(1), object(2)\n",
      "memory usage: 282.3+ KB\n",
      "None\n"
     ]
    }
   ],
   "source": [
    "# The stack exchange data is from stack exchange API\n",
    "\n",
    "def get_stack_data(path):\n",
    "    \"\"\"\n",
    "    Load the stack exchange data\n",
    "    param path: str: path to the stack exchange data\n",
    "    return: pd.DataFrame: the stack exchange data\n",
    "    \"\"\"\n",
    "    return pd.read_csv(path)\n",
    "\n",
    "STACK_DF = get_stack_data('private/stack_exchange_all_questions.csv')\n",
    "print(STACK_DF.info())"
   ]
  },
  {
   "cell_type": "code",
   "execution_count": 59,
   "metadata": {},
   "outputs": [
    {
     "data": {
      "text/html": [
       "<div>\n",
       "<style scoped>\n",
       "    .dataframe tbody tr th:only-of-type {\n",
       "        vertical-align: middle;\n",
       "    }\n",
       "\n",
       "    .dataframe tbody tr th {\n",
       "        vertical-align: top;\n",
       "    }\n",
       "\n",
       "    .dataframe thead th {\n",
       "        text-align: right;\n",
       "    }\n",
       "</style>\n",
       "<table border=\"1\" class=\"dataframe\">\n",
       "  <thead>\n",
       "    <tr style=\"text-align: right;\">\n",
       "      <th></th>\n",
       "      <th>question_id</th>\n",
       "      <th>title</th>\n",
       "      <th>tags</th>\n",
       "    </tr>\n",
       "  </thead>\n",
       "  <tbody>\n",
       "    <tr>\n",
       "      <th>0</th>\n",
       "      <td>59815</td>\n",
       "      <td>My translation of Li Bai&amp;#39;s 《三五七言》</td>\n",
       "      <td>translation, poetry</td>\n",
       "    </tr>\n",
       "    <tr>\n",
       "      <th>1</th>\n",
       "      <td>53654</td>\n",
       "      <td>What do these characters on an antique mural p...</td>\n",
       "      <td>character-identification, traditional-characte...</td>\n",
       "    </tr>\n",
       "    <tr>\n",
       "      <th>2</th>\n",
       "      <td>59823</td>\n",
       "      <td>Help in translating Li Bai&amp;#39;s 《月下独酌&amp;#183;其二》</td>\n",
       "      <td>translation, poetry</td>\n",
       "    </tr>\n",
       "    <tr>\n",
       "      <th>3</th>\n",
       "      <td>59821</td>\n",
       "      <td>purpose of using 了 with 要不</td>\n",
       "      <td>grammar</td>\n",
       "    </tr>\n",
       "    <tr>\n",
       "      <th>4</th>\n",
       "      <td>59652</td>\n",
       "      <td>Why does the character 的 is pronounced differe...</td>\n",
       "      <td>pronunciation, songs</td>\n",
       "    </tr>\n",
       "  </tbody>\n",
       "</table>\n",
       "</div>"
      ],
      "text/plain": [
       "   question_id                                              title  \\\n",
       "0        59815              My translation of Li Bai&#39;s 《三五七言》   \n",
       "1        53654  What do these characters on an antique mural p...   \n",
       "2        59823    Help in translating Li Bai&#39;s 《月下独酌&#183;其二》   \n",
       "3        59821                         purpose of using 了 with 要不   \n",
       "4        59652  Why does the character 的 is pronounced differe...   \n",
       "\n",
       "                                                tags  \n",
       "0                                translation, poetry  \n",
       "1  character-identification, traditional-characte...  \n",
       "2                                translation, poetry  \n",
       "3                                            grammar  \n",
       "4                               pronunciation, songs  "
      ]
     },
     "execution_count": 59,
     "metadata": {},
     "output_type": "execute_result"
    }
   ],
   "source": [
    "STACK_DF.head()"
   ]
  },
  {
   "cell_type": "markdown",
   "metadata": {},
   "source": [
    "### 1.2 Get SEAME data (development dataset)\n",
    "Observations\n",
    "- 1. Not NULL values in the data\n",
    "- 2. The dataset include 5321 records/rows and 3 columns"
   ]
  },
  {
   "cell_type": "code",
   "execution_count": 60,
   "metadata": {},
   "outputs": [],
   "source": [
    "# The SEAME DATASET IS FROM: \n",
    "# Zhiping Zeng, Yerbolat Khassanov, Van Tung Pham, Haihua Xu, Eng Siong Chng, \n",
    "# and Haizhou Li, “On the End-to-End Solution to Mandarin-English Code-switching \n",
    "# Speech Recognition,” arXiv preprint arXiv:1811.00241, 2018.\n",
    "\n",
    "def get_seame_data(path):\n",
    "    \"\"\"\n",
    "    This function reads the SEAME dataset from the given path \n",
    "    and returns a pandas dataframe.\n",
    "    param path: str: path to the SEAME dataset\n",
    "    return: pd.DataFrame: SEAME dataset\n",
    "    \"\"\"\n",
    "    # Ignore SSL certificate errors\n",
    "    ssl._create_default_https_context = ssl._create_unverified_context\n",
    "    # Read the file without specifying column names\n",
    "    df = pd.read_csv(path, sep='\\t', header=None)\n",
    "    # Reset SSL certificate to default\n",
    "    ssl._create_default_https_context = ssl._create_default_https_context\n",
    "    # Split the first column into 'ID' and 'sentence'\n",
    "    df[['ID', 'sentence']] = df[0].str.split(pat=' ', n=1, expand=True)\n",
    "    # Drop the original column\n",
    "    df = df.drop(columns=[0])\n",
    "    return df\n",
    "\n",
    "SEAME_DF = get_seame_data('https://raw.githubusercontent.com/zengzp0912/' + \n",
    "                            'SEAME-dev-set/refs/heads/master/dev_sge/text')"
   ]
  },
  {
   "cell_type": "code",
   "execution_count": 61,
   "metadata": {},
   "outputs": [
    {
     "data": {
      "text/html": [
       "<div>\n",
       "<style scoped>\n",
       "    .dataframe tbody tr th:only-of-type {\n",
       "        vertical-align: middle;\n",
       "    }\n",
       "\n",
       "    .dataframe tbody tr th {\n",
       "        vertical-align: top;\n",
       "    }\n",
       "\n",
       "    .dataframe thead th {\n",
       "        text-align: right;\n",
       "    }\n",
       "</style>\n",
       "<table border=\"1\" class=\"dataframe\">\n",
       "  <thead>\n",
       "    <tr style=\"text-align: right;\">\n",
       "      <th></th>\n",
       "      <th>ID</th>\n",
       "      <th>sentence</th>\n",
       "    </tr>\n",
       "  </thead>\n",
       "  <tbody>\n",
       "    <tr>\n",
       "      <th>0</th>\n",
       "      <td>nc15m-08nc15mbp_0101-00190-00481</td>\n",
       "      <td>hello hello 可 以</td>\n",
       "    </tr>\n",
       "    <tr>\n",
       "      <th>1</th>\n",
       "      <td>nc15m-08nc15mbp_0101-01044-01130</td>\n",
       "      <td>往 下 一 点</td>\n",
       "    </tr>\n",
       "    <tr>\n",
       "      <th>2</th>\n",
       "      <td>nc15m-08nc15mbp_0101-02185-02444</td>\n",
       "      <td>那 个 wave 比 较 慢 一 点 啊</td>\n",
       "    </tr>\n",
       "    <tr>\n",
       "      <th>3</th>\n",
       "      <td>nc15m-08nc15mbp_0101-02503-02571</td>\n",
       "      <td>okay 可 以</td>\n",
       "    </tr>\n",
       "    <tr>\n",
       "      <th>4</th>\n",
       "      <td>nc15m-08nc15mbp_0101-02838-02963</td>\n",
       "      <td>讲 多 一 点 咯 可 以</td>\n",
       "    </tr>\n",
       "  </tbody>\n",
       "</table>\n",
       "</div>"
      ],
      "text/plain": [
       "                                 ID              sentence\n",
       "0  nc15m-08nc15mbp_0101-00190-00481       hello hello 可 以\n",
       "1  nc15m-08nc15mbp_0101-01044-01130               往 下 一 点\n",
       "2  nc15m-08nc15mbp_0101-02185-02444  那 个 wave 比 较 慢 一 点 啊\n",
       "3  nc15m-08nc15mbp_0101-02503-02571              okay 可 以\n",
       "4  nc15m-08nc15mbp_0101-02838-02963         讲 多 一 点 咯 可 以"
      ]
     },
     "execution_count": 61,
     "metadata": {},
     "output_type": "execute_result"
    }
   ],
   "source": [
    "SEAME_DF.head()"
   ]
  },
  {
   "cell_type": "code",
   "execution_count": 62,
   "metadata": {},
   "outputs": [
    {
     "name": "stdout",
     "output_type": "stream",
     "text": [
      "<class 'pandas.core.frame.DataFrame'>\n",
      "RangeIndex: 5321 entries, 0 to 5320\n",
      "Data columns (total 2 columns):\n",
      " #   Column    Non-Null Count  Dtype \n",
      "---  ------    --------------  ----- \n",
      " 0   ID        5321 non-null   object\n",
      " 1   sentence  5321 non-null   object\n",
      "dtypes: object(2)\n",
      "memory usage: 83.3+ KB\n"
     ]
    }
   ],
   "source": [
    "SEAME_DF.info()"
   ]
  },
  {
   "cell_type": "code",
   "execution_count": 63,
   "metadata": {},
   "outputs": [],
   "source": [
    "# save it to a csv file for future use\n",
    "SEAME_DF.to_csv('private/seame.csv', index=False)"
   ]
  },
  {
   "cell_type": "markdown",
   "metadata": {},
   "source": [
    "### 1.3 Get ASCEND data\n",
    "Observations\n",
    "- 1. Not NULL values in the data\n",
    "- 2. The dataset include 9869 records/rows and 3 columns"
   ]
  },
  {
   "cell_type": "code",
   "execution_count": 64,
   "metadata": {},
   "outputs": [
    {
     "data": {
      "text/html": [
       "<div>\n",
       "<style scoped>\n",
       "    .dataframe tbody tr th:only-of-type {\n",
       "        vertical-align: middle;\n",
       "    }\n",
       "\n",
       "    .dataframe tbody tr th {\n",
       "        vertical-align: top;\n",
       "    }\n",
       "\n",
       "    .dataframe thead th {\n",
       "        text-align: right;\n",
       "    }\n",
       "</style>\n",
       "<table border=\"1\" class=\"dataframe\">\n",
       "  <thead>\n",
       "    <tr style=\"text-align: right;\">\n",
       "      <th></th>\n",
       "      <th>id</th>\n",
       "      <th>transcription</th>\n",
       "      <th>topic</th>\n",
       "    </tr>\n",
       "  </thead>\n",
       "  <tbody>\n",
       "    <tr>\n",
       "      <th>0</th>\n",
       "      <td>00000</td>\n",
       "      <td>嗯</td>\n",
       "      <td>technology</td>\n",
       "    </tr>\n",
       "    <tr>\n",
       "      <th>1</th>\n",
       "      <td>00001</td>\n",
       "      <td>小朋友我回想一下when i was in elementary school</td>\n",
       "      <td>technology</td>\n",
       "    </tr>\n",
       "    <tr>\n",
       "      <th>2</th>\n",
       "      <td>00002</td>\n",
       "      <td>like year three</td>\n",
       "      <td>technology</td>\n",
       "    </tr>\n",
       "    <tr>\n",
       "      <th>3</th>\n",
       "      <td>00003</td>\n",
       "      <td>i have a phone but it's not a smart phone at t...</td>\n",
       "      <td>technology</td>\n",
       "    </tr>\n",
       "    <tr>\n",
       "      <th>4</th>\n",
       "      <td>00004</td>\n",
       "      <td>就是其实主要的功能就是打电话然后跟parents联系</td>\n",
       "      <td>technology</td>\n",
       "    </tr>\n",
       "  </tbody>\n",
       "</table>\n",
       "</div>"
      ],
      "text/plain": [
       "      id                                      transcription       topic\n",
       "0  00000                                                  嗯  technology\n",
       "1  00001            小朋友我回想一下when i was in elementary school  technology\n",
       "2  00002                                    like year three  technology\n",
       "3  00003  i have a phone but it's not a smart phone at t...  technology\n",
       "4  00004                         就是其实主要的功能就是打电话然后跟parents联系  technology"
      ]
     },
     "execution_count": 64,
     "metadata": {},
     "output_type": "execute_result"
    }
   ],
   "source": [
    "# The third dataset is ASCEND\n",
    "# The ASCEND DATASET IS FROM:\n",
    "# Lovenia, H., Cahyawijaya, S., Winata, G., Xu, P., Xu, Y., Liu, Z., Frieske, \n",
    "# R., Yu, T., Dai, W., Barezi, E. J., Chen, Q., Ma, X., Shi, B., & Fung, \n",
    "# P. (2022, June). ASCEND: A spontaneous Chinese-English dataset \n",
    "# for code-switching in multi-turn conversation. Proceedings of the \n",
    "# Language Resources and Evaluation Conference, 7259–7268. European \n",
    "# Language Resources Association. https://aclanthology.org/2022.lrec-1.788\n",
    "\n",
    "def get_ascend_data():\n",
    "    \"\"\"\n",
    "    Load the ASCEND dataset\n",
    "    param: None\n",
    "    return: pd.DataFrame: the ASCEND training and development datasets\n",
    "    \"\"\"\n",
    "    # Load dataset but remove audio feature\n",
    "    data = datasets.load_dataset('CAiRE/ascend')\n",
    "\n",
    "    # Convert dataset to a Pandas DataFrame\n",
    "    ascend_tr_df = data['train'].to_pandas()\n",
    "    # Use the development set for now\n",
    "    ascend_dev_df = data['validation'].to_pandas()\n",
    "\n",
    "    # Keep only the required columns\n",
    "    ascend_tr_df = ascend_tr_df[[\"id\", \"transcription\", \"topic\"]]\n",
    "    ascend_dev_df = ascend_dev_df[[\"id\", \"transcription\", \"topic\"]]\n",
    "\n",
    "    return ascend_tr_df, ascend_dev_df\n",
    "# Load ASCEND dataset with selected columns\n",
    "ASCEND_DF, ASCEND_DV_DF = get_ascend_data()\n",
    "ASCEND_DV_DF.head()\n"
   ]
  },
  {
   "cell_type": "code",
   "execution_count": 65,
   "metadata": {},
   "outputs": [],
   "source": [
    "# ASCEND_DV_DF.info()"
   ]
  },
  {
   "cell_type": "code",
   "execution_count": 66,
   "metadata": {},
   "outputs": [
    {
     "name": "stdout",
     "output_type": "stream",
     "text": [
      "<class 'pandas.core.frame.DataFrame'>\n",
      "RangeIndex: 9869 entries, 0 to 9868\n",
      "Data columns (total 3 columns):\n",
      " #   Column         Non-Null Count  Dtype \n",
      "---  ------         --------------  ----- \n",
      " 0   id             9869 non-null   object\n",
      " 1   transcription  9869 non-null   object\n",
      " 2   topic          9869 non-null   object\n",
      "dtypes: object(3)\n",
      "memory usage: 231.4+ KB\n"
     ]
    }
   ],
   "source": [
    "ASCEND_DF.info()"
   ]
  },
  {
   "cell_type": "code",
   "execution_count": 67,
   "metadata": {},
   "outputs": [],
   "source": [
    "# save it to a csv file for future use\n",
    "ASCEND_DF.to_csv('private/ascend.csv', index=False)"
   ]
  },
  {
   "cell_type": "markdown",
   "metadata": {},
   "source": [
    "## 2 Process the stack exchange data: the title column\n",
    "Data processing pipeline aims at cleaning to the dataset to the level of the \n",
    "SEAME dataset from the published Chinese-English code-switching [paper](https://arxiv.org/abs/1811.00241). \n",
    "- 1. Randomly sample 20 rows/records multiple times for uncleanliness checking\n",
    "- 2. Check URLs (non present)\n",
    "    - URLs are not relevant to the code-switching. \n",
    "- 3. Replace special symbols for their actual characters, such as &quot as \"\n",
    "    - These special symbols are not HTML representations of the actual characters. \n",
    "    The replacement correct that.\n",
    "- 4. Remove punctuations\n",
    "    - Based on the SEAME dataset, punctuations are not relevant to code-switching.\n",
    "    - Based on my knowledge as an applied linguist, punctuations may not trigger \n",
    "    code-switching for bi-/multi-lingual speakers.\n",
    "- 5. Remove non-Chinese-or-English characters, such as number+letters, \n",
    "    letters+numbers\n",
    "    - This project focuses on Chinese-English code-switching. \n",
    "    Non-Chinese-or-English characters are irrelevant, which may be gibberish\n",
    "    from website scraping. "
   ]
  },
  {
   "cell_type": "code",
   "execution_count": 68,
   "metadata": {},
   "outputs": [
    {
     "data": {
      "text/html": [
       "<div>\n",
       "<style scoped>\n",
       "    .dataframe tbody tr th:only-of-type {\n",
       "        vertical-align: middle;\n",
       "    }\n",
       "\n",
       "    .dataframe tbody tr th {\n",
       "        vertical-align: top;\n",
       "    }\n",
       "\n",
       "    .dataframe thead th {\n",
       "        text-align: right;\n",
       "    }\n",
       "</style>\n",
       "<table border=\"1\" class=\"dataframe\">\n",
       "  <thead>\n",
       "    <tr style=\"text-align: right;\">\n",
       "      <th></th>\n",
       "      <th>question_id</th>\n",
       "      <th>title</th>\n",
       "      <th>tags</th>\n",
       "    </tr>\n",
       "  </thead>\n",
       "  <tbody>\n",
       "    <tr>\n",
       "      <th>8932</th>\n",
       "      <td>23952</td>\n",
       "      <td>Is there any relationship between 田 (ti&amp;#225;n...</td>\n",
       "      <td>characters</td>\n",
       "    </tr>\n",
       "    <tr>\n",
       "      <th>5249</th>\n",
       "      <td>34418</td>\n",
       "      <td>What are the characters on this? (Character id...</td>\n",
       "      <td>character-identification</td>\n",
       "    </tr>\n",
       "    <tr>\n",
       "      <th>604</th>\n",
       "      <td>58166</td>\n",
       "      <td>what is a real meaning of 致 ？</td>\n",
       "      <td>meaning</td>\n",
       "    </tr>\n",
       "    <tr>\n",
       "      <th>1647</th>\n",
       "      <td>53429</td>\n",
       "      <td>What&amp;#39;s the difference between 借代 and 比喻?</td>\n",
       "      <td>rhetoric</td>\n",
       "    </tr>\n",
       "    <tr>\n",
       "      <th>9682</th>\n",
       "      <td>18042</td>\n",
       "      <td>How to determine what 即 means in a sentence</td>\n",
       "      <td>grammar</td>\n",
       "    </tr>\n",
       "    <tr>\n",
       "      <th>11873</th>\n",
       "      <td>2392</td>\n",
       "      <td>How to cope with classical references?</td>\n",
       "      <td>culture</td>\n",
       "    </tr>\n",
       "    <tr>\n",
       "      <th>3029</th>\n",
       "      <td>27270</td>\n",
       "      <td>What is the difference between 于 and 以 to expr...</td>\n",
       "      <td>difference, word, preposition</td>\n",
       "    </tr>\n",
       "    <tr>\n",
       "      <th>6055</th>\n",
       "      <td>22701</td>\n",
       "      <td>What does 而将活活地被压死 mean?</td>\n",
       "      <td>translation, meaning</td>\n",
       "    </tr>\n",
       "    <tr>\n",
       "      <th>3573</th>\n",
       "      <td>42954</td>\n",
       "      <td>How do I type 了 with m17n tonepy in ubuntu?</td>\n",
       "      <td>pinyin, input-methods</td>\n",
       "    </tr>\n",
       "    <tr>\n",
       "      <th>2352</th>\n",
       "      <td>51295</td>\n",
       "      <td>What does 被打败 mean in this context?</td>\n",
       "      <td>meaning-in-context</td>\n",
       "    </tr>\n",
       "    <tr>\n",
       "      <th>5558</th>\n",
       "      <td>37145</td>\n",
       "      <td>How did 背后 come to mean &amp;quot;behind one&amp;#39;s...</td>\n",
       "      <td>etymology</td>\n",
       "    </tr>\n",
       "    <tr>\n",
       "      <th>7362</th>\n",
       "      <td>31222</td>\n",
       "      <td>How many 行书 semi-cursive handwriting variants</td>\n",
       "      <td>handwriting</td>\n",
       "    </tr>\n",
       "    <tr>\n",
       "      <th>6513</th>\n",
       "      <td>34302</td>\n",
       "      <td>Differences between 移民 and 移居</td>\n",
       "      <td>word-choice, mandarin, usage</td>\n",
       "    </tr>\n",
       "    <tr>\n",
       "      <th>65</th>\n",
       "      <td>59709</td>\n",
       "      <td>How to say &amp;quot;This is your last red envelop...</td>\n",
       "      <td>culture, phrase-request</td>\n",
       "    </tr>\n",
       "    <tr>\n",
       "      <th>8123</th>\n",
       "      <td>28163</td>\n",
       "      <td>The function of 这么 in this line</td>\n",
       "      <td>meaning</td>\n",
       "    </tr>\n",
       "    <tr>\n",
       "      <th>6091</th>\n",
       "      <td>36043</td>\n",
       "      <td>What does 我们已经帮您踩过了 mean in this peculiarly tr...</td>\n",
       "      <td>meaning-in-context</td>\n",
       "    </tr>\n",
       "    <tr>\n",
       "      <th>7937</th>\n",
       "      <td>3025</td>\n",
       "      <td>How to (hand) write Chinese characters faster</td>\n",
       "      <td>writing</td>\n",
       "    </tr>\n",
       "    <tr>\n",
       "      <th>10219</th>\n",
       "      <td>14572</td>\n",
       "      <td>Why some characters have different sounds?</td>\n",
       "      <td>characters, pronunciation, pinyin</td>\n",
       "    </tr>\n",
       "    <tr>\n",
       "      <th>5186</th>\n",
       "      <td>30005</td>\n",
       "      <td>What language is this and what does it say? (C...</td>\n",
       "      <td>translation, character-identification</td>\n",
       "    </tr>\n",
       "    <tr>\n",
       "      <th>6774</th>\n",
       "      <td>33485</td>\n",
       "      <td>When was 呌 replaced with 叫?</td>\n",
       "      <td>characters</td>\n",
       "    </tr>\n",
       "  </tbody>\n",
       "</table>\n",
       "</div>"
      ],
      "text/plain": [
       "       question_id                                              title  \\\n",
       "8932         23952  Is there any relationship between 田 (ti&#225;n...   \n",
       "5249         34418  What are the characters on this? (Character id...   \n",
       "604          58166                      what is a real meaning of 致 ？   \n",
       "1647         53429       What&#39;s the difference between 借代 and 比喻?   \n",
       "9682         18042        How to determine what 即 means in a sentence   \n",
       "11873         2392             How to cope with classical references?   \n",
       "3029         27270  What is the difference between 于 and 以 to expr...   \n",
       "6055         22701                           What does 而将活活地被压死 mean?   \n",
       "3573         42954        How do I type 了 with m17n tonepy in ubuntu?   \n",
       "2352         51295                What does 被打败 mean in this context?   \n",
       "5558         37145  How did 背后 come to mean &quot;behind one&#39;s...   \n",
       "7362         31222      How many 行书 semi-cursive handwriting variants   \n",
       "6513         34302                      Differences between 移民 and 移居   \n",
       "65           59709  How to say &quot;This is your last red envelop...   \n",
       "8123         28163                    The function of 这么 in this line   \n",
       "6091         36043  What does 我们已经帮您踩过了 mean in this peculiarly tr...   \n",
       "7937          3025      How to (hand) write Chinese characters faster   \n",
       "10219        14572         Why some characters have different sounds?   \n",
       "5186         30005  What language is this and what does it say? (C...   \n",
       "6774         33485                        When was 呌 replaced with 叫?   \n",
       "\n",
       "                                        tags  \n",
       "8932                              characters  \n",
       "5249                character-identification  \n",
       "604                                  meaning  \n",
       "1647                                rhetoric  \n",
       "9682                                 grammar  \n",
       "11873                                culture  \n",
       "3029           difference, word, preposition  \n",
       "6055                    translation, meaning  \n",
       "3573                   pinyin, input-methods  \n",
       "2352                      meaning-in-context  \n",
       "5558                               etymology  \n",
       "7362                             handwriting  \n",
       "6513            word-choice, mandarin, usage  \n",
       "65                   culture, phrase-request  \n",
       "8123                                 meaning  \n",
       "6091                      meaning-in-context  \n",
       "7937                                 writing  \n",
       "10219      characters, pronunciation, pinyin  \n",
       "5186   translation, character-identification  \n",
       "6774                              characters  "
      ]
     },
     "execution_count": 68,
     "metadata": {},
     "output_type": "execute_result"
    }
   ],
   "source": [
    "def sample_rows(df, n=20):\n",
    "    \"\"\"\n",
    "    This function samples n rows from the given dataframe.\n",
    "    param df: pd.DataFrame: dataframe to sample from\n",
    "    param n: int: number of rows to sample\n",
    "    return: pd.DataFrame: sampled dataframe\n",
    "    \"\"\"\n",
    "    return df.sample(n)\n",
    "\n",
    "sample_rows(STACK_DF)"
   ]
  },
  {
   "cell_type": "code",
   "execution_count": 69,
   "metadata": {},
   "outputs": [],
   "source": [
    "# Function to check all the rows with a given pattern\n",
    "def check_pattern_non_regex(df, pattern):\n",
    "    \"\"\"\n",
    "    Check all the rows with a given pattern\n",
    "    param df: pd.DataFrame: dataframe to check\n",
    "    param pattern: str: pattern to check\n",
    "    return: pd.DataFrame: dataframe with rows containing the pattern\n",
    "    \"\"\"\n",
    "    return df[df.str.contains(pattern, na=False)]\n",
    "\n",
    "def check_pattern_regex(df, pattern):\n",
    "    \"\"\"\n",
    "    Check all the rows with a given pattern\n",
    "    param df: pd.DataFrame: dataframe to check\n",
    "    param pattern: str: pattern to check\n",
    "    return: pd.DataFrame: dataframe with rows containing the pattern\n",
    "    \"\"\"\n",
    "    return df[df.str.contains(pattern, na=False, regex=True)]"
   ]
  },
  {
   "cell_type": "code",
   "execution_count": 70,
   "metadata": {},
   "outputs": [
    {
     "data": {
      "text/plain": [
       "Series([], Name: title, dtype: object)"
      ]
     },
     "execution_count": 70,
     "metadata": {},
     "output_type": "execute_result"
    }
   ],
   "source": [
    "# Check if url is present the stack exchange data\n",
    "check_pattern_regex(STACK_DF['title'], r'https?://\\S+')\n",
    "# This will return all the rows with a url in the title column"
   ]
  },
  {
   "cell_type": "code",
   "execution_count": 71,
   "metadata": {},
   "outputs": [
    {
     "name": "stdout",
     "output_type": "stream",
     "text": [
      "This is a \"test\" string\n"
     ]
    }
   ],
   "source": [
    "\n",
    "# Function to replace A with B using regex\n",
    "def replace_text(text, pattern, replace_with):\n",
    "    \"\"\"\n",
    "    Replace a pattern in a text with a given string\n",
    "    param text: str: input text\n",
    "    param pattern: str: pattern to replace\n",
    "    param replace_with: str: string to replace the pattern with\n",
    "    return: str: text with the pattern replaced\n",
    "    \"\"\"\n",
    "    return re.sub(pattern, replace_with, text)\n",
    "\n",
    "# Function to replace \" &quot;\" with '\"' and \"&#39;\" with '\"'\n",
    "def replace_quot(text):\n",
    "    \"\"\"\n",
    "    Replace &quot; with \"\n",
    "    param text: str: input text\n",
    "    return: str: text with &quot or &#39;; replaced with \"\n",
    "    \"\"\"\n",
    "    text = replace_text(text, \"&quot;\", '\"')\n",
    "    text = replace_text(text, \"&#39;\", '\"')\n",
    "    return text\n",
    "\n",
    "# Test the function\n",
    "print(replace_quot('This is a &quot;test&quot; string'))"
   ]
  },
  {
   "cell_type": "code",
   "execution_count": 72,
   "metadata": {},
   "outputs": [
    {
     "name": "stdout",
     "output_type": "stream",
     "text": [
      "What is the difference: \"和小猫一样可爱\" and \"像小猫一样可爱\"\n",
      "How do you say \"dates back to\" in Mandarin?\n",
      "一 [份/个/项] 工作??? What is the difference?\n"
     ]
    }
   ],
   "source": [
    "# Apply the function to the title quotes in the stack exchange dataset\n",
    "STACK_DF['title'] = STACK_DF['title'].apply(replace_quot)\n",
    "print(STACK_DF.iloc[10710, 1])\n",
    "print(STACK_DF.iloc[11633, 1])\n",
    "print(STACK_DF.iloc[2547, 1])"
   ]
  },
  {
   "cell_type": "code",
   "execution_count": 73,
   "metadata": {},
   "outputs": [
    {
     "data": {
      "text/plain": [
       "'Understanding and interpretation of 李白 《玉阶怨》'"
      ]
     },
     "execution_count": 73,
     "metadata": {},
     "output_type": "execute_result"
    }
   ],
   "source": [
    "# Function to remove 's, 'll, and others\n",
    "def remove_apostrophe(text):\n",
    "    \"\"\"\n",
    "    Remove 's, 'll, 've, 're, 'd, 'm, 'em from text\n",
    "    param text: str: input text\n",
    "    return: str: text with 's, 'll, 've, 're, 'd, 'm, 'em removed\n",
    "    \"\"\"\n",
    "    text = re.sub(r\"'ll\", \"\", text)\n",
    "    text = re.sub(r\"'ve\", \"\", text)\n",
    "    text = re.sub(r\"'re\", \"\", text)\n",
    "    text = re.sub(r\"'d\", \"\", text)\n",
    "    text = re.sub(r\"'m\", \"\", text)\n",
    "    text = re.sub(r\"'em\", \"\", text)\n",
    "    text = re.sub(r\"'t\", \"\", text)\n",
    "    text = re.sub(r\"n't\", \"not\", text)\n",
    "    text = re.sub(r\"'\", \"\", text)\n",
    "    text = re.sub(r'\"s', \"\", text)\n",
    "    text = re.sub(r'\"ll', \"\", text)\n",
    "    text = re.sub(r'\"ve', \"\", text)\n",
    "    text = re.sub(r'\"re', \"\", text)\n",
    "    text = re.sub(r'\"d', \"\", text)\n",
    "    text = re.sub(r'\"m', \"\", text)\n",
    "    text = re.sub(r'\"em', \"\", text)\n",
    "    text = re.sub(r'\"t', \"\", text)\n",
    "    text = re.sub(r'\"', \"\", text)\n",
    "    text = re.sub(r\"’s\", \"\", text)\n",
    "    text = re.sub(r\"’ll\", \"\", text)\n",
    "    text = re.sub(r\"’ve\", \"\", text)\n",
    "    text = re.sub(r\"’re\", \"\", text)\n",
    "    text = re.sub(r\"’d\", \"\", text)\n",
    "    text = re.sub(r\"’m\", \"\", text)\n",
    "    text = re.sub(r\"’em\", \"\", text)\n",
    "    text = re.sub(r\"’t\", \"\", text)\n",
    "    text = re.sub(r\"n’t\", \"not\", text)\n",
    "    text = re.sub(r\"’\", \"\", text)\n",
    "    text = re.sub(r\"‘s\", \"\", text)\n",
    "    text = re.sub(r\"‘ll\", \"\", text)\n",
    "    text = re.sub(r\"‘ve\", \"\", text)\n",
    "    text = re.sub(r\"‘re\", \"\", text)\n",
    "    text = re.sub(r\"‘d\", \"\", text)\n",
    "    text = re.sub(r\"‘m\", \"\", text)\n",
    "    text = re.sub(r\"‘em\", \"\", text)\n",
    "    text = re.sub(r\"‘t\", \"\", text)\n",
    "    text = re.sub(r\"n‘t\", \"not\", text)\n",
    "    text = re.sub(r\"‘\", \"\", text)\n",
    "    return text\n",
    "\n",
    "remove_apostrophe(\"I'm going to the store. He'll be there.\")\n",
    "remove_apostrophe(STACK_DF.iloc[192, 1])"
   ]
  },
  {
   "cell_type": "code",
   "execution_count": 74,
   "metadata": {},
   "outputs": [
    {
     "name": "stdout",
     "output_type": "stream",
     "text": [
      "Understanding and interpretation of 李白\"s 《玉阶怨》\n",
      "Understanding and interpretation of 李白 《玉阶怨》\n"
     ]
    }
   ],
   "source": [
    "print(STACK_DF.iloc[192, 1])\n",
    "STACK_DF['title'] = STACK_DF['title'].apply(remove_apostrophe)\n",
    "print(STACK_DF.iloc[192, 1])"
   ]
  },
  {
   "cell_type": "code",
   "execution_count": 75,
   "metadata": {},
   "outputs": [
    {
     "data": {
      "text/html": [
       "<div>\n",
       "<style scoped>\n",
       "    .dataframe tbody tr th:only-of-type {\n",
       "        vertical-align: middle;\n",
       "    }\n",
       "\n",
       "    .dataframe tbody tr th {\n",
       "        vertical-align: top;\n",
       "    }\n",
       "\n",
       "    .dataframe thead th {\n",
       "        text-align: right;\n",
       "    }\n",
       "</style>\n",
       "<table border=\"1\" class=\"dataframe\">\n",
       "  <thead>\n",
       "    <tr style=\"text-align: right;\">\n",
       "      <th></th>\n",
       "      <th>question_id</th>\n",
       "      <th>title</th>\n",
       "      <th>tags</th>\n",
       "    </tr>\n",
       "  </thead>\n",
       "  <tbody>\n",
       "    <tr>\n",
       "      <th>2837</th>\n",
       "      <td>48642</td>\n",
       "      <td>Is there an ordering to words like 喜欢，喜爱，喜好?</td>\n",
       "      <td>translation, vocabulary, comparison</td>\n",
       "    </tr>\n",
       "    <tr>\n",
       "      <th>9699</th>\n",
       "      <td>17922</td>\n",
       "      <td>Similarities between connectives 就 and 而?</td>\n",
       "      <td>meaning, meaning-in-context</td>\n",
       "    </tr>\n",
       "    <tr>\n",
       "      <th>186</th>\n",
       "      <td>59463</td>\n",
       "      <td>Using 有 or 是 to describe amount</td>\n",
       "      <td>grammar, verbs, quantity</td>\n",
       "    </tr>\n",
       "    <tr>\n",
       "      <th>4913</th>\n",
       "      <td>33834</td>\n",
       "      <td>How did 零 come to mean zero?</td>\n",
       "      <td>meaning-in-context, etymology</td>\n",
       "    </tr>\n",
       "    <tr>\n",
       "      <th>5313</th>\n",
       "      <td>38866</td>\n",
       "      <td>Are radicals like first letters or letters in ...</td>\n",
       "      <td>radicals</td>\n",
       "    </tr>\n",
       "    <tr>\n",
       "      <th>5418</th>\n",
       "      <td>8732</td>\n",
       "      <td>What is the Chinese word for programmer?</td>\n",
       "      <td>translation, word-requests</td>\n",
       "    </tr>\n",
       "    <tr>\n",
       "      <th>7398</th>\n",
       "      <td>31058</td>\n",
       "      <td>Why is 叫 (call) in 叫我马上到北极?</td>\n",
       "      <td>meaning-in-context, word</td>\n",
       "    </tr>\n",
       "    <tr>\n",
       "      <th>9074</th>\n",
       "      <td>23255</td>\n",
       "      <td>Identification help</td>\n",
       "      <td>character-identification</td>\n",
       "    </tr>\n",
       "    <tr>\n",
       "      <th>1561</th>\n",
       "      <td>53932</td>\n",
       "      <td>Is this sentence correct? 我把梦想献给李白的诗</td>\n",
       "      <td>translation, meaning-in-context</td>\n",
       "    </tr>\n",
       "    <tr>\n",
       "      <th>11005</th>\n",
       "      <td>9483</td>\n",
       "      <td>Is there a difference between 教训 and 论点 ？</td>\n",
       "      <td>grammar</td>\n",
       "    </tr>\n",
       "    <tr>\n",
       "      <th>7790</th>\n",
       "      <td>28456</td>\n",
       "      <td>Deeper meaning of 爲 (beyond one sentence defin...</td>\n",
       "      <td>meaning, reference-materials</td>\n",
       "    </tr>\n",
       "    <tr>\n",
       "      <th>7477</th>\n",
       "      <td>30669</td>\n",
       "      <td>Is this book simplified or traditional?</td>\n",
       "      <td>simplified-characters, traditional-vs-simplified</td>\n",
       "    </tr>\n",
       "    <tr>\n",
       "      <th>244</th>\n",
       "      <td>59295</td>\n",
       "      <td>Need help to translate and understand《望月有怀》, b...</td>\n",
       "      <td>translation, poetry</td>\n",
       "    </tr>\n",
       "    <tr>\n",
       "      <th>8991</th>\n",
       "      <td>23705</td>\n",
       "      <td>Usage of 非不 in Middle (?) Chinese</td>\n",
       "      <td>vocabulary</td>\n",
       "    </tr>\n",
       "    <tr>\n",
       "      <th>11645</th>\n",
       "      <td>3177</td>\n",
       "      <td>Is there a Chinese equivalent of the German Mu...</td>\n",
       "      <td>translation, meaning</td>\n",
       "    </tr>\n",
       "    <tr>\n",
       "      <th>6380</th>\n",
       "      <td>33678</td>\n",
       "      <td>Metaphorical opening translation</td>\n",
       "      <td>word-choice, word, word-requests</td>\n",
       "    </tr>\n",
       "    <tr>\n",
       "      <th>214</th>\n",
       "      <td>58070</td>\n",
       "      <td>Omitting 不可 in sentences starting with 非</td>\n",
       "      <td>vocabulary</td>\n",
       "    </tr>\n",
       "    <tr>\n",
       "      <th>10473</th>\n",
       "      <td>13379</td>\n",
       "      <td>Translation help please</td>\n",
       "      <td>translation</td>\n",
       "    </tr>\n",
       "    <tr>\n",
       "      <th>9105</th>\n",
       "      <td>23058</td>\n",
       "      <td>The interpretation of a sentence in the Qieyun...</td>\n",
       "      <td>translation, meaning-in-context, middle-chinese</td>\n",
       "    </tr>\n",
       "    <tr>\n",
       "      <th>6027</th>\n",
       "      <td>36198</td>\n",
       "      <td>Why is 纔 the “correct” traditional form of 才?</td>\n",
       "      <td>characters</td>\n",
       "    </tr>\n",
       "  </tbody>\n",
       "</table>\n",
       "</div>"
      ],
      "text/plain": [
       "       question_id                                              title  \\\n",
       "2837         48642       Is there an ordering to words like 喜欢，喜爱，喜好?   \n",
       "9699         17922          Similarities between connectives 就 and 而?   \n",
       "186          59463                    Using 有 or 是 to describe amount   \n",
       "4913         33834                       How did 零 come to mean zero?   \n",
       "5313         38866  Are radicals like first letters or letters in ...   \n",
       "5418          8732           What is the Chinese word for programmer?   \n",
       "7398         31058                        Why is 叫 (call) in 叫我马上到北极?   \n",
       "9074         23255                                Identification help   \n",
       "1561         53932               Is this sentence correct? 我把梦想献给李白的诗   \n",
       "11005         9483          Is there a difference between 教训 and 论点 ？   \n",
       "7790         28456  Deeper meaning of 爲 (beyond one sentence defin...   \n",
       "7477         30669            Is this book simplified or traditional?   \n",
       "244          59295  Need help to translate and understand《望月有怀》, b...   \n",
       "8991         23705                  Usage of 非不 in Middle (?) Chinese   \n",
       "11645         3177  Is there a Chinese equivalent of the German Mu...   \n",
       "6380         33678                   Metaphorical opening translation   \n",
       "214          58070           Omitting 不可 in sentences starting with 非   \n",
       "10473        13379                            Translation help please   \n",
       "9105         23058  The interpretation of a sentence in the Qieyun...   \n",
       "6027         36198      Why is 纔 the “correct” traditional form of 才?   \n",
       "\n",
       "                                                   tags  \n",
       "2837                translation, vocabulary, comparison  \n",
       "9699                        meaning, meaning-in-context  \n",
       "186                            grammar, verbs, quantity  \n",
       "4913                      meaning-in-context, etymology  \n",
       "5313                                           radicals  \n",
       "5418                         translation, word-requests  \n",
       "7398                           meaning-in-context, word  \n",
       "9074                           character-identification  \n",
       "1561                    translation, meaning-in-context  \n",
       "11005                                           grammar  \n",
       "7790                       meaning, reference-materials  \n",
       "7477   simplified-characters, traditional-vs-simplified  \n",
       "244                                 translation, poetry  \n",
       "8991                                         vocabulary  \n",
       "11645                              translation, meaning  \n",
       "6380                   word-choice, word, word-requests  \n",
       "214                                          vocabulary  \n",
       "10473                                       translation  \n",
       "9105    translation, meaning-in-context, middle-chinese  \n",
       "6027                                         characters  "
      ]
     },
     "execution_count": 75,
     "metadata": {},
     "output_type": "execute_result"
    }
   ],
   "source": [
    "# Resample again to check other signs of data uncleanliness\n",
    "sample_rows(STACK_DF)"
   ]
  },
  {
   "cell_type": "code",
   "execution_count": 76,
   "metadata": {},
   "outputs": [
    {
     "name": "stdout",
     "output_type": "stream",
     "text": [
      "STACK_DF.iloc[7598, 1]: \n",
      "Is this [Ivanka Trump] Chinese proverb real? —“Those who say it can not be done, should not interrupt those doing it”\n",
      "STACK_DF.iloc[4374, 1]: \n",
      "What semantic notions underlie o think; to contemplate, with but; however; nevertheless with only?\n",
      "STACK_DF.iloc[1041, 1]: \n",
      "Should the blank in 他毕业以后很快 _____ 找到了一个理想的工作 be filled with 才, 可, or 便?\n",
      "STACK_DF.iloc[1230, 1]: \n",
      "Can you say someone is a ”非常熟的人“？\n",
      "STACK_DF.iloc[6224, 1]: \n",
      "“管你是[surname] + [name]还是[same surname] + [different name]”\n",
      "STACK_DF.iloc[664, 1]: \n",
      "D&#224;o d&#233; and d&#224;od&#233;. Difference between each word separately? And when combined together as a compound word?\n",
      "STACK_DF.iloc[5366, 1]: \n",
      "好客\tvs 亲切 - both mean hospitable?\n"
     ]
    }
   ],
   "source": [
    "print('STACK_DF.iloc[7598, 1]: ')\n",
    "print(STACK_DF.iloc[7598, 1])\n",
    "print('STACK_DF.iloc[4374, 1]: ')\n",
    "print(STACK_DF.iloc[4374, 1])\n",
    "print('STACK_DF.iloc[1041, 1]: ')\n",
    "print(STACK_DF.iloc[1041, 1])\n",
    "print('STACK_DF.iloc[1230, 1]: ')\n",
    "print(STACK_DF.iloc[1230, 1])\n",
    "print('STACK_DF.iloc[6224, 1]: ')\n",
    "print(STACK_DF.iloc[6224, 1])\n",
    "print('STACK_DF.iloc[664, 1]: ')\n",
    "print(STACK_DF.iloc[664, 1])\n",
    "print('STACK_DF.iloc[5366, 1]: ')\n",
    "print(STACK_DF.iloc[5366, 1])"
   ]
  },
  {
   "cell_type": "code",
   "execution_count": 77,
   "metadata": {},
   "outputs": [
    {
     "name": "stdout",
     "output_type": "stream",
     "text": [
      "Is this Ivanka Trump Chinese proverb real Those who say it can not be done should not interrupt those doing it\n",
      "What semantic notions underlie o think to contemplate with but however nevertheless with only\n",
      "Should the blank in 他毕业以后很快 _____ 找到了一个理想的工作 be filled with 才 可 or 便\n",
      "Can you say someone is a 非常熟的人\n",
      "管你是surname  name还是same surname  different name\n",
      "STACK_DF.iloc[664, 1]: \n",
      "D224o d233 and d224od233 Difference between each word separately And when combined together as a compound word\n",
      "STACK_DF.iloc[5366, 1]: \n",
      "好客\tvs 亲切  both mean hospitable\n",
      "STACK_DF.iloc[6782, 1]\n",
      "When handwriting 黄 hu225ng yellow is it incorrect to have a disconnected 草 cǎo grass radical on top\n"
     ]
    }
   ],
   "source": [
    "# Remove punctuations from the title column\n",
    "STACK_DF['title'] = STACK_DF['title'].apply(lambda x: re.sub(r'[^\\w\\s]', '', x))\n",
    "print(STACK_DF.iloc[7598, 1])\n",
    "print(STACK_DF.iloc[4374, 1])\n",
    "print(STACK_DF.iloc[1041, 1])\n",
    "print(STACK_DF.iloc[1230, 1])\n",
    "print(STACK_DF.iloc[6224, 1])\n",
    "print('STACK_DF.iloc[664, 1]: ')\n",
    "print(STACK_DF.iloc[664, 1])\n",
    "print('STACK_DF.iloc[5366, 1]: ')\n",
    "print(STACK_DF.iloc[5366, 1])\n",
    "print('STACK_DF.iloc[6782, 1]')\n",
    "print(STACK_DF.iloc[6782, 1])"
   ]
  },
  {
   "cell_type": "code",
   "execution_count": 78,
   "metadata": {},
   "outputs": [
    {
     "data": {
      "text/plain": [
       "873      How should I understand this teacher objection...\n",
       "1020     Is it okay to fill in the blanks of 那种汽车 ____ ...\n",
       "1041     Should the blank in 他毕业以后很快 _____ 找到了一个理想的工作 b...\n",
       "2859            What does the underscore _ mean in Chinese\n",
       "5578               Is the o in Let meet from 4 _to_ five 到\n",
       "5681              How did three characters for _de_ emerge\n",
       "5943              How to fill in the blanks in 两个队的分数_都很_近\n",
       "6479     When is it necessary to say _色的 when telling t...\n",
       "8396                       Do you add 在 before saying ___年\n",
       "9251                        Can you say 回去 ____ A location\n",
       "9375                                 Blessed bat pun 蝙蝠__福\n",
       "10062              Do the notations  ___ LLL mean anything\n",
       "Name: title, dtype: object"
      ]
     },
     "execution_count": 78,
     "metadata": {},
     "output_type": "execute_result"
    }
   ],
   "source": [
    "# Check underscores in the title column\n",
    "check_pattern_regex(STACK_DF['title'], r'_+')"
   ]
  },
  {
   "cell_type": "code",
   "execution_count": 79,
   "metadata": {},
   "outputs": [
    {
     "data": {
      "text/plain": [
       "Series([], Name: title, dtype: object)"
      ]
     },
     "execution_count": 79,
     "metadata": {},
     "output_type": "execute_result"
    }
   ],
   "source": [
    "# remove underscores from the title column\n",
    "STACK_DF['title'] = STACK_DF['title'].apply(lambda x: re.sub(r'_+', ' ', x))\n",
    "check_pattern_regex(STACK_DF['title'], r'_+')"
   ]
  },
  {
   "cell_type": "code",
   "execution_count": 80,
   "metadata": {},
   "outputs": [
    {
     "data": {
      "text/html": [
       "<div>\n",
       "<style scoped>\n",
       "    .dataframe tbody tr th:only-of-type {\n",
       "        vertical-align: middle;\n",
       "    }\n",
       "\n",
       "    .dataframe tbody tr th {\n",
       "        vertical-align: top;\n",
       "    }\n",
       "\n",
       "    .dataframe thead th {\n",
       "        text-align: right;\n",
       "    }\n",
       "</style>\n",
       "<table border=\"1\" class=\"dataframe\">\n",
       "  <thead>\n",
       "    <tr style=\"text-align: right;\">\n",
       "      <th></th>\n",
       "      <th>question_id</th>\n",
       "      <th>title</th>\n",
       "      <th>tags</th>\n",
       "    </tr>\n",
       "  </thead>\n",
       "  <tbody>\n",
       "    <tr>\n",
       "      <th>3494</th>\n",
       "      <td>43468</td>\n",
       "      <td>Idioms Quiz of 23</td>\n",
       "      <td>idioms, puzzle</td>\n",
       "    </tr>\n",
       "    <tr>\n",
       "      <th>335</th>\n",
       "      <td>40730</td>\n",
       "      <td>How did Middle Chinese h230wk evolve into Mand...</td>\n",
       "      <td>mandarin, pronunciation, middle-chinese</td>\n",
       "    </tr>\n",
       "    <tr>\n",
       "      <th>1722</th>\n",
       "      <td>53418</td>\n",
       "      <td>Can classifiers be used poetically</td>\n",
       "      <td>measure-word</td>\n",
       "    </tr>\n",
       "    <tr>\n",
       "      <th>2161</th>\n",
       "      <td>51869</td>\n",
       "      <td>A 回来用隔离不 when you return do you need to isolat...</td>\n",
       "      <td>meaning-in-context, humor</td>\n",
       "    </tr>\n",
       "    <tr>\n",
       "      <th>10677</th>\n",
       "      <td>12231</td>\n",
       "      <td>Can someone translate this chinese letter</td>\n",
       "      <td>translation</td>\n",
       "    </tr>\n",
       "    <tr>\n",
       "      <th>1094</th>\n",
       "      <td>33348</td>\n",
       "      <td>Why does 葛藤갈등 mean conflict or roubles</td>\n",
       "      <td>meaning, etymology</td>\n",
       "    </tr>\n",
       "    <tr>\n",
       "      <th>5555</th>\n",
       "      <td>37114</td>\n",
       "      <td>What exactly is an ancient Tang dynasty 壺</td>\n",
       "      <td>classical-chinese, culture, history, literary-...</td>\n",
       "    </tr>\n",
       "    <tr>\n",
       "      <th>5284</th>\n",
       "      <td>38938</td>\n",
       "      <td>Cantonese song 不可一世  what is the spoken part a...</td>\n",
       "      <td>cantonese, songs</td>\n",
       "    </tr>\n",
       "    <tr>\n",
       "      <th>2916</th>\n",
       "      <td>48417</td>\n",
       "      <td>How does 味 taste flavor semantically appertain...</td>\n",
       "      <td>etymology</td>\n",
       "    </tr>\n",
       "    <tr>\n",
       "      <th>6240</th>\n",
       "      <td>35539</td>\n",
       "      <td>Why does 兴奋 excitement not mean what I think i...</td>\n",
       "      <td>meaning, usage, meaning-in-context</td>\n",
       "    </tr>\n",
       "    <tr>\n",
       "      <th>6592</th>\n",
       "      <td>14609</td>\n",
       "      <td>Are you still married to Mary How to translate...</td>\n",
       "      <td>translation</td>\n",
       "    </tr>\n",
       "    <tr>\n",
       "      <th>7360</th>\n",
       "      <td>30667</td>\n",
       "      <td>What the difference between 战略 and 策略</td>\n",
       "      <td>difference, meaning</td>\n",
       "    </tr>\n",
       "    <tr>\n",
       "      <th>6216</th>\n",
       "      <td>35618</td>\n",
       "      <td>Literal versus contextual translation of 斷腸</td>\n",
       "      <td>meaning-in-context, terminology</td>\n",
       "    </tr>\n",
       "    <tr>\n",
       "      <th>6393</th>\n",
       "      <td>34951</td>\n",
       "      <td>What is the meaning of 后 in 分钟后</td>\n",
       "      <td>meaning, simplified-characters</td>\n",
       "    </tr>\n",
       "    <tr>\n",
       "      <th>10723</th>\n",
       "      <td>10936</td>\n",
       "      <td>The most used Chinese dialect on the Web</td>\n",
       "      <td>mandarin, topolect</td>\n",
       "    </tr>\n",
       "    <tr>\n",
       "      <th>4443</th>\n",
       "      <td>40781</td>\n",
       "      <td>Difference between 洞 and 口 for holes in things</td>\n",
       "      <td>word-choice, difference, word</td>\n",
       "    </tr>\n",
       "    <tr>\n",
       "      <th>9835</th>\n",
       "      <td>16851</td>\n",
       "      <td>Poems about parents love and care for children</td>\n",
       "      <td>poetry</td>\n",
       "    </tr>\n",
       "    <tr>\n",
       "      <th>8366</th>\n",
       "      <td>9904</td>\n",
       "      <td>How do you say To take a gap year</td>\n",
       "      <td>translation, word</td>\n",
       "    </tr>\n",
       "    <tr>\n",
       "      <th>465</th>\n",
       "      <td>58596</td>\n",
       "      <td>Is 谈何易 an abbreviation of 谈何容易 occurring in on...</td>\n",
       "      <td>vocabulary</td>\n",
       "    </tr>\n",
       "    <tr>\n",
       "      <th>9693</th>\n",
       "      <td>17972</td>\n",
       "      <td>Getting my eyebrows done  修眉 xiū m233i how do ...</td>\n",
       "      <td>grammar, usage</td>\n",
       "    </tr>\n",
       "  </tbody>\n",
       "</table>\n",
       "</div>"
      ],
      "text/plain": [
       "       question_id                                              title  \\\n",
       "3494         43468                                  Idioms Quiz of 23   \n",
       "335          40730  How did Middle Chinese h230wk evolve into Mand...   \n",
       "1722         53418                 Can classifiers be used poetically   \n",
       "2161         51869  A 回来用隔离不 when you return do you need to isolat...   \n",
       "10677        12231          Can someone translate this chinese letter   \n",
       "1094         33348             Why does 葛藤갈등 mean conflict or roubles   \n",
       "5555         37114          What exactly is an ancient Tang dynasty 壺   \n",
       "5284         38938  Cantonese song 不可一世  what is the spoken part a...   \n",
       "2916         48417  How does 味 taste flavor semantically appertain...   \n",
       "6240         35539  Why does 兴奋 excitement not mean what I think i...   \n",
       "6592         14609  Are you still married to Mary How to translate...   \n",
       "7360         30667              What the difference between 战略 and 策略   \n",
       "6216         35618        Literal versus contextual translation of 斷腸   \n",
       "6393         34951                    What is the meaning of 后 in 分钟后   \n",
       "10723        10936           The most used Chinese dialect on the Web   \n",
       "4443         40781     Difference between 洞 and 口 for holes in things   \n",
       "9835         16851     Poems about parents love and care for children   \n",
       "8366          9904                  How do you say To take a gap year   \n",
       "465          58596  Is 谈何易 an abbreviation of 谈何容易 occurring in on...   \n",
       "9693         17972  Getting my eyebrows done  修眉 xiū m233i how do ...   \n",
       "\n",
       "                                                    tags  \n",
       "3494                                      idioms, puzzle  \n",
       "335              mandarin, pronunciation, middle-chinese  \n",
       "1722                                        measure-word  \n",
       "2161                           meaning-in-context, humor  \n",
       "10677                                        translation  \n",
       "1094                                  meaning, etymology  \n",
       "5555   classical-chinese, culture, history, literary-...  \n",
       "5284                                    cantonese, songs  \n",
       "2916                                           etymology  \n",
       "6240                  meaning, usage, meaning-in-context  \n",
       "6592                                         translation  \n",
       "7360                                 difference, meaning  \n",
       "6216                     meaning-in-context, terminology  \n",
       "6393                      meaning, simplified-characters  \n",
       "10723                                 mandarin, topolect  \n",
       "4443                       word-choice, difference, word  \n",
       "9835                                              poetry  \n",
       "8366                                   translation, word  \n",
       "465                                           vocabulary  \n",
       "9693                                      grammar, usage  "
      ]
     },
     "execution_count": 80,
     "metadata": {},
     "output_type": "execute_result"
    }
   ],
   "source": [
    "# Resample again to check other signs of data uncleanliness\n",
    "sample_rows(STACK_DF)"
   ]
  },
  {
   "cell_type": "code",
   "execution_count": 81,
   "metadata": {},
   "outputs": [
    {
     "name": "stdout",
     "output_type": "stream",
     "text": [
      "STACK_DF.iloc[7488, 1]: \n",
      "Why is 把 in 我去洗把脸 wǒ q249 xǐ bǎ liǎn  I going to wash my face\n",
      "STACK_DF.iloc[9375, 1]: \n",
      "Blessed bat pun 蝙蝠 福\n",
      "STACK_DF.iloc[6587, 1]: \n",
      "Why is 弄 n242ng in 他终于弄明白了\n"
     ]
    }
   ],
   "source": [
    "print('STACK_DF.iloc[7488, 1]: ')\n",
    "print(STACK_DF.iloc[7488, 1])\n",
    "print('STACK_DF.iloc[9375, 1]: ')\n",
    "print(STACK_DF.iloc[9375, 1])\n",
    "print('STACK_DF.iloc[6587, 1]: ')\n",
    "print(STACK_DF.iloc[6587, 1])"
   ]
  },
  {
   "cell_type": "code",
   "execution_count": 82,
   "metadata": {},
   "outputs": [
    {
     "data": {
      "text/plain": [
       "7488     Why is 把 in 我去洗把脸 wǒ q249 xǐ bǎ liǎn  I going ...\n",
       "11613                     Is 去 q249 pronunced tɕʰu or tɕʰy\n",
       "Name: title, dtype: object"
      ]
     },
     "execution_count": 82,
     "metadata": {},
     "output_type": "execute_result"
    }
   ],
   "source": [
    "check_pattern_non_regex(STACK_DF['title'], 'q249')"
   ]
  },
  {
   "cell_type": "code",
   "execution_count": 83,
   "metadata": {},
   "outputs": [
    {
     "name": "stdout",
     "output_type": "stream",
     "text": [
      "Is there any distinction between 二百 232rbǎi and 两百 liǎng bǎi which both mean wo hundred\n",
      "Is there any distinction between 二百  and 两百 liǎng bǎi which both mean wo hundred\n",
      "Series([], Name: title, dtype: object)\n"
     ]
    }
   ],
   "source": [
    "# remove numbers/words with numbers from the title column\n",
    "print(STACK_DF.iloc[3638, 1])\n",
    "STACK_DF['title'] = STACK_DF['title'].apply(lambda x: re.sub(r'\\w*\\d\\w*', '', x))\n",
    "print(STACK_DF.iloc[3638, 1])\n",
    "print(check_pattern_non_regex(STACK_DF['title'], 'q249'))"
   ]
  },
  {
   "cell_type": "code",
   "execution_count": 84,
   "metadata": {},
   "outputs": [
    {
     "name": "stdout",
     "output_type": "stream",
     "text": [
      "Is 去  pronunced tu or ty\n"
     ]
    }
   ],
   "source": [
    "# Function to remove non English or Chinese characters\n",
    "def remove_non_en_ch(text):\n",
    "    \"\"\"\n",
    "    Remove non-English or Chinese characters\n",
    "    param text: str: input text\n",
    "    return: str: text with non-English or Chinese characters removed\n",
    "    \"\"\"\n",
    "    return re.sub(r'[^\\x00-\\x7F\\u4E00-\\u9FA5]', '', text)\n",
    "\n",
    "print(remove_non_en_ch(STACK_DF.iloc[11613, 1]))"
   ]
  },
  {
   "cell_type": "code",
   "execution_count": 85,
   "metadata": {},
   "outputs": [
    {
     "name": "stdout",
     "output_type": "stream",
     "text": [
      "Is 去  pronunced tɕʰu or tɕʰy\n",
      "Is 去  pronunced tu or ty\n"
     ]
    }
   ],
   "source": [
    "print(STACK_DF.iloc[11613, 1])\n",
    "STACK_DF['title'] = STACK_DF['title'].apply(remove_non_en_ch)\n",
    "print(STACK_DF.iloc[11613, 1])"
   ]
  },
  {
   "cell_type": "code",
   "execution_count": 86,
   "metadata": {},
   "outputs": [
    {
     "data": {
      "text/html": [
       "<div>\n",
       "<style scoped>\n",
       "    .dataframe tbody tr th:only-of-type {\n",
       "        vertical-align: middle;\n",
       "    }\n",
       "\n",
       "    .dataframe tbody tr th {\n",
       "        vertical-align: top;\n",
       "    }\n",
       "\n",
       "    .dataframe thead th {\n",
       "        text-align: right;\n",
       "    }\n",
       "</style>\n",
       "<table border=\"1\" class=\"dataframe\">\n",
       "  <thead>\n",
       "    <tr style=\"text-align: right;\">\n",
       "      <th></th>\n",
       "      <th>question_id</th>\n",
       "      <th>title</th>\n",
       "      <th>tags</th>\n",
       "    </tr>\n",
       "  </thead>\n",
       "  <tbody>\n",
       "    <tr>\n",
       "      <th>10431</th>\n",
       "      <td>13206</td>\n",
       "      <td>What does 国产地效船双船 mean</td>\n",
       "      <td>meaning</td>\n",
       "    </tr>\n",
       "    <tr>\n",
       "      <th>2570</th>\n",
       "      <td>50567</td>\n",
       "      <td>What is the colloquial meaning of 小祖宗</td>\n",
       "      <td>etymology, idioms</td>\n",
       "    </tr>\n",
       "    <tr>\n",
       "      <th>7365</th>\n",
       "      <td>29715</td>\n",
       "      <td>Help me understandtranslate 不留到晚自习就写完多好 contex...</td>\n",
       "      <td>translation</td>\n",
       "    </tr>\n",
       "    <tr>\n",
       "      <th>9761</th>\n",
       "      <td>17542</td>\n",
       "      <td>What is the difference between 涉及 and 涉及到</td>\n",
       "      <td>grammar</td>\n",
       "    </tr>\n",
       "    <tr>\n",
       "      <th>2091</th>\n",
       "      <td>27861</td>\n",
       "      <td>How do I type  on a keyboard</td>\n",
       "      <td>cantonese, pinyin, traditional-characters, yal...</td>\n",
       "    </tr>\n",
       "    <tr>\n",
       "      <th>10460</th>\n",
       "      <td>13089</td>\n",
       "      <td>Why 保重 means ake care</td>\n",
       "      <td>meaning, vocabulary, etymology, phrase</td>\n",
       "    </tr>\n",
       "    <tr>\n",
       "      <th>7379</th>\n",
       "      <td>30742</td>\n",
       "      <td>Under what circumstances can you use 又又</td>\n",
       "      <td>grammar, usage, sentence-structure</td>\n",
       "    </tr>\n",
       "    <tr>\n",
       "      <th>7064</th>\n",
       "      <td>31943</td>\n",
       "      <td>Function of 吧 in 循环吧代码</td>\n",
       "      <td>meaning, usage</td>\n",
       "    </tr>\n",
       "    <tr>\n",
       "      <th>4279</th>\n",
       "      <td>41174</td>\n",
       "      <td>Why is 的 used instead of 了 in this sentence</td>\n",
       "      <td>translation, grammar, simplified-characters</td>\n",
       "    </tr>\n",
       "    <tr>\n",
       "      <th>8401</th>\n",
       "      <td>22352</td>\n",
       "      <td>Need help translating a few words</td>\n",
       "      <td>translation, word-choice, word-requests</td>\n",
       "    </tr>\n",
       "    <tr>\n",
       "      <th>6415</th>\n",
       "      <td>34889</td>\n",
       "      <td>Where did  originate from</td>\n",
       "      <td>meaning, etymology</td>\n",
       "    </tr>\n",
       "    <tr>\n",
       "      <th>11848</th>\n",
       "      <td>2565</td>\n",
       "      <td>Character layout in calligraphy eg with respec...</td>\n",
       "      <td>characters, poetry</td>\n",
       "    </tr>\n",
       "    <tr>\n",
       "      <th>777</th>\n",
       "      <td>56582</td>\n",
       "      <td>Translation  rasch und schnell</td>\n",
       "      <td>translation, word-requests, culture, chengyu, art</td>\n",
       "    </tr>\n",
       "    <tr>\n",
       "      <th>11313</th>\n",
       "      <td>7158</td>\n",
       "      <td>Chinese phrases to encourage better 关系</td>\n",
       "      <td>word-choice, politeness</td>\n",
       "    </tr>\n",
       "    <tr>\n",
       "      <th>7071</th>\n",
       "      <td>16265</td>\n",
       "      <td>Is Sunday 星期天 or 星期日</td>\n",
       "      <td>meaning, usage, difference</td>\n",
       "    </tr>\n",
       "    <tr>\n",
       "      <th>7955</th>\n",
       "      <td>27311</td>\n",
       "      <td>How to say he water is boiling in Taiwanese Ma...</td>\n",
       "      <td>taiwan</td>\n",
       "    </tr>\n",
       "    <tr>\n",
       "      <th>11558</th>\n",
       "      <td>5221</td>\n",
       "      <td>Difference between 我饿了 and 我很饿</td>\n",
       "      <td>meaning</td>\n",
       "    </tr>\n",
       "    <tr>\n",
       "      <th>7155</th>\n",
       "      <td>31566</td>\n",
       "      <td>How is 那还用说translated as Of course or That goe...</td>\n",
       "      <td>translation, meaning</td>\n",
       "    </tr>\n",
       "    <tr>\n",
       "      <th>1540</th>\n",
       "      <td>54024</td>\n",
       "      <td>What kind of feeling does this 烦恼 describes</td>\n",
       "      <td>meaning, difference</td>\n",
       "    </tr>\n",
       "    <tr>\n",
       "      <th>6347</th>\n",
       "      <td>34933</td>\n",
       "      <td>are there region specific idioms</td>\n",
       "      <td>idioms</td>\n",
       "    </tr>\n",
       "  </tbody>\n",
       "</table>\n",
       "</div>"
      ],
      "text/plain": [
       "       question_id                                              title  \\\n",
       "10431        13206                             What does 国产地效船双船 mean   \n",
       "2570         50567             What is the colloquial meaning of 小祖宗    \n",
       "7365         29715  Help me understandtranslate 不留到晚自习就写完多好 contex...   \n",
       "9761         17542          What is the difference between 涉及 and 涉及到   \n",
       "2091         27861                       How do I type  on a keyboard   \n",
       "10460        13089                              Why 保重 means ake care   \n",
       "7379         30742            Under what circumstances can you use 又又   \n",
       "7064         31943                             Function of 吧 in 循环吧代码   \n",
       "4279         41174        Why is 的 used instead of 了 in this sentence   \n",
       "8401         22352                  Need help translating a few words   \n",
       "6415         34889                          Where did  originate from   \n",
       "11848         2565  Character layout in calligraphy eg with respec...   \n",
       "777          56582                     Translation  rasch und schnell   \n",
       "11313         7158             Chinese phrases to encourage better 关系   \n",
       "7071         16265                               Is Sunday 星期天 or 星期日   \n",
       "7955         27311  How to say he water is boiling in Taiwanese Ma...   \n",
       "11558         5221                     Difference between 我饿了 and 我很饿   \n",
       "7155         31566  How is 那还用说translated as Of course or That goe...   \n",
       "1540         54024        What kind of feeling does this 烦恼 describes   \n",
       "6347         34933                   are there region specific idioms   \n",
       "\n",
       "                                                    tags  \n",
       "10431                                            meaning  \n",
       "2570                                   etymology, idioms  \n",
       "7365                                         translation  \n",
       "9761                                             grammar  \n",
       "2091   cantonese, pinyin, traditional-characters, yal...  \n",
       "10460             meaning, vocabulary, etymology, phrase  \n",
       "7379                  grammar, usage, sentence-structure  \n",
       "7064                                      meaning, usage  \n",
       "4279         translation, grammar, simplified-characters  \n",
       "8401             translation, word-choice, word-requests  \n",
       "6415                                  meaning, etymology  \n",
       "11848                                 characters, poetry  \n",
       "777    translation, word-requests, culture, chengyu, art  \n",
       "11313                            word-choice, politeness  \n",
       "7071                          meaning, usage, difference  \n",
       "7955                                              taiwan  \n",
       "11558                                            meaning  \n",
       "7155                                translation, meaning  \n",
       "1540                                 meaning, difference  \n",
       "6347                                              idioms  "
      ]
     },
     "execution_count": 86,
     "metadata": {},
     "output_type": "execute_result"
    }
   ],
   "source": [
    "# Resample again to check other signs of data uncleanliness\n",
    "sample_rows(STACK_DF)"
   ]
  },
  {
   "cell_type": "code",
   "execution_count": 87,
   "metadata": {},
   "outputs": [
    {
     "name": "stdout",
     "output_type": "stream",
     "text": [
      "<class 'pandas.core.frame.DataFrame'>\n",
      "RangeIndex: 12041 entries, 0 to 12040\n",
      "Data columns (total 3 columns):\n",
      " #   Column       Non-Null Count  Dtype \n",
      "---  ------       --------------  ----- \n",
      " 0   question_id  12041 non-null  int64 \n",
      " 1   title        12041 non-null  object\n",
      " 2   tags         12041 non-null  object\n",
      "dtypes: int64(1), object(2)\n",
      "memory usage: 282.3+ KB\n"
     ]
    }
   ],
   "source": [
    "# check to remove rows with null values on the title column\n",
    "STACK_DF = STACK_DF.dropna(subset=['title'])\n",
    "STACK_DF.info()"
   ]
  },
  {
   "cell_type": "markdown",
   "metadata": {},
   "source": [
    "## 3 Process the stack exchange: tags and title columns\n",
    "Data processing pipeline aims at cleaning to the dataset to the level of the \n",
    "SEAME dataset from the published Chinese-English code-switching [paper](https://arxiv.org/abs/1811.00241). \n",
    "The tags columns are much cleaners as compared to the previous column\n",
    "- Remove dash line as they are just formatting not relevant to the topics/tags\n",
    "- Remove empty strings in the title column and replace with NaN values\n",
    "- Remove rows with NaN values in the title column\n",
    "- Rename the column to be `text` and `topic`\n",
    "- Save the stack exchange data to a CSV to avoid repeatition processing"
   ]
  },
  {
   "cell_type": "code",
   "execution_count": 88,
   "metadata": {},
   "outputs": [
    {
     "data": {
      "text/plain": [
       "Series([], Name: tags, dtype: object)"
      ]
     },
     "execution_count": 88,
     "metadata": {},
     "output_type": "execute_result"
    }
   ],
   "source": [
    "# check for non English or Chinese  characters\n",
    "check_pattern_non_regex(STACK_DF['tags'], r'[^\\x00-\\x7F\\u4E00-\\u9FA5]')"
   ]
  },
  {
   "cell_type": "code",
   "execution_count": 89,
   "metadata": {},
   "outputs": [
    {
     "data": {
      "text/plain": [
       "1        character-identification, traditional-characte...\n",
       "5        translation, character-identification, seal, c...\n",
       "11                               classical-chinese, poetry\n",
       "13             translation, character-identification, seal\n",
       "17        translation, word-choice, terminology, loanwords\n",
       "                               ...                        \n",
       "12023                               word-choice, cantonese\n",
       "12026                                          word-choice\n",
       "12031                            verbs, meaning-in-context\n",
       "12032                             mandarin, mainland-china\n",
       "12038                 characters, character-identification\n",
       "Name: tags, Length: 4342, dtype: object"
      ]
     },
     "execution_count": 89,
     "metadata": {},
     "output_type": "execute_result"
    }
   ],
   "source": [
    "# check for punctuations if other than ,\n",
    "check_pattern_non_regex(STACK_DF['tags'], r'[^\\w\\s,]')"
   ]
  },
  {
   "cell_type": "code",
   "execution_count": 90,
   "metadata": {},
   "outputs": [
    {
     "data": {
      "text/plain": [
       "Series([], Name: tags, dtype: object)"
      ]
     },
     "execution_count": 90,
     "metadata": {},
     "output_type": "execute_result"
    }
   ],
   "source": [
    "# remove - from the tags columns\n",
    "STACK_DF['tags'] = STACK_DF['tags'].apply(lambda x: re.sub(r'-', ' ', x))\n",
    "check_pattern_non_regex(STACK_DF['tags'], r'-')"
   ]
  },
  {
   "cell_type": "code",
   "execution_count": 91,
   "metadata": {},
   "outputs": [
    {
     "data": {
      "text/html": [
       "<div>\n",
       "<style scoped>\n",
       "    .dataframe tbody tr th:only-of-type {\n",
       "        vertical-align: middle;\n",
       "    }\n",
       "\n",
       "    .dataframe tbody tr th {\n",
       "        vertical-align: top;\n",
       "    }\n",
       "\n",
       "    .dataframe thead th {\n",
       "        text-align: right;\n",
       "    }\n",
       "</style>\n",
       "<table border=\"1\" class=\"dataframe\">\n",
       "  <thead>\n",
       "    <tr style=\"text-align: right;\">\n",
       "      <th></th>\n",
       "      <th>question_id</th>\n",
       "      <th>title</th>\n",
       "      <th>tags</th>\n",
       "    </tr>\n",
       "  </thead>\n",
       "  <tbody>\n",
       "    <tr>\n",
       "      <th>3683</th>\n",
       "      <td>42923</td>\n",
       "      <td>Symbolism Of A Verse From A Chinese Poem</td>\n",
       "      <td>simplified characters, poetry</td>\n",
       "    </tr>\n",
       "    <tr>\n",
       "      <th>1298</th>\n",
       "      <td>54814</td>\n",
       "      <td>Why it called 蕁麻疹</td>\n",
       "      <td>terminology</td>\n",
       "    </tr>\n",
       "    <tr>\n",
       "      <th>589</th>\n",
       "      <td>54208</td>\n",
       "      <td>Can 徐 develop a sound</td>\n",
       "      <td>phonology</td>\n",
       "    </tr>\n",
       "    <tr>\n",
       "      <th>9930</th>\n",
       "      <td>16737</td>\n",
       "      <td>Meaning of text on poster</td>\n",
       "      <td>translation</td>\n",
       "    </tr>\n",
       "    <tr>\n",
       "      <th>3082</th>\n",
       "      <td>47867</td>\n",
       "      <td>Etymology of 復員</td>\n",
       "      <td>etymology</td>\n",
       "    </tr>\n",
       "    <tr>\n",
       "      <th>662</th>\n",
       "      <td>57957</td>\n",
       "      <td>what is the difference between 困惑 and 糊涂</td>\n",
       "      <td>difference</td>\n",
       "    </tr>\n",
       "    <tr>\n",
       "      <th>901</th>\n",
       "      <td>56159</td>\n",
       "      <td>How to literally translate this 在赶路时用尽全力地向前冲</td>\n",
       "      <td>meaning, meaning in context</td>\n",
       "    </tr>\n",
       "    <tr>\n",
       "      <th>3165</th>\n",
       "      <td>3001</td>\n",
       "      <td>Is there a literal meaning of 对不起</td>\n",
       "      <td>meaning</td>\n",
       "    </tr>\n",
       "    <tr>\n",
       "      <th>9108</th>\n",
       "      <td>22447</td>\n",
       "      <td>is this translation in Chinese of grammatical ...</td>\n",
       "      <td>translation</td>\n",
       "    </tr>\n",
       "    <tr>\n",
       "      <th>3084</th>\n",
       "      <td>47832</td>\n",
       "      <td>Contranyms in the Chinese language</td>\n",
       "      <td>usage, synonyms, antonyms</td>\n",
       "    </tr>\n",
       "    <tr>\n",
       "      <th>9776</th>\n",
       "      <td>17468</td>\n",
       "      <td>How do I tell the difference between ing and in</td>\n",
       "      <td>spoken</td>\n",
       "    </tr>\n",
       "    <tr>\n",
       "      <th>190</th>\n",
       "      <td>55863</td>\n",
       "      <td>What is the difference between 书面演讲 and 带稿发言</td>\n",
       "      <td>word choice, culture</td>\n",
       "    </tr>\n",
       "    <tr>\n",
       "      <th>5677</th>\n",
       "      <td>902</td>\n",
       "      <td>Difference between 曾经 and 已经</td>\n",
       "      <td>word choice, expressions, usage</td>\n",
       "    </tr>\n",
       "    <tr>\n",
       "      <th>11506</th>\n",
       "      <td>3849</td>\n",
       "      <td>Why is teak 肉排</td>\n",
       "      <td>etymology, food, loanwords</td>\n",
       "    </tr>\n",
       "    <tr>\n",
       "      <th>8879</th>\n",
       "      <td>24122</td>\n",
       "      <td>What would the meaning of 之前知道 be And 之前知道了</td>\n",
       "      <td>grammar, meaning, word choice</td>\n",
       "    </tr>\n",
       "    <tr>\n",
       "      <th>928</th>\n",
       "      <td>56069</td>\n",
       "      <td>How to translate 开口呼齐齿呼合口呼撮口呼 to English</td>\n",
       "      <td>pinyin, pronounciation</td>\n",
       "    </tr>\n",
       "    <tr>\n",
       "      <th>1010</th>\n",
       "      <td>55793</td>\n",
       "      <td>Is the final particle 夫 a fusion of 不乎</td>\n",
       "      <td>classical chinese, old chinese</td>\n",
       "    </tr>\n",
       "    <tr>\n",
       "      <th>361</th>\n",
       "      <td>58728</td>\n",
       "      <td>Why do n endings sound like ng sometimes in Ma...</td>\n",
       "      <td>mandarin, pronunciation</td>\n",
       "    </tr>\n",
       "    <tr>\n",
       "      <th>9324</th>\n",
       "      <td>21876</td>\n",
       "      <td>Structure X is the most Y of Z</td>\n",
       "      <td>grammar, sentence structure, comparison</td>\n",
       "    </tr>\n",
       "    <tr>\n",
       "      <th>403</th>\n",
       "      <td>33523</td>\n",
       "      <td>ChineseChinese dictionary definitions reusing ...</td>\n",
       "      <td>dictionary</td>\n",
       "    </tr>\n",
       "  </tbody>\n",
       "</table>\n",
       "</div>"
      ],
      "text/plain": [
       "       question_id                                              title  \\\n",
       "3683         42923           Symbolism Of A Verse From A Chinese Poem   \n",
       "1298         54814                                  Why it called 蕁麻疹   \n",
       "589          54208                             Can 徐 develop a sound    \n",
       "9930         16737                          Meaning of text on poster   \n",
       "3082         47867                                    Etymology of 復員   \n",
       "662          57957           what is the difference between 困惑 and 糊涂   \n",
       "901          56159       How to literally translate this 在赶路时用尽全力地向前冲   \n",
       "3165          3001                  Is there a literal meaning of 对不起   \n",
       "9108         22447  is this translation in Chinese of grammatical ...   \n",
       "3084         47832                 Contranyms in the Chinese language   \n",
       "9776         17468    How do I tell the difference between ing and in   \n",
       "190          55863       What is the difference between 书面演讲 and 带稿发言   \n",
       "5677           902                       Difference between 曾经 and 已经   \n",
       "11506         3849                                     Why is teak 肉排   \n",
       "8879         24122        What would the meaning of 之前知道 be And 之前知道了   \n",
       "928          56069           How to translate 开口呼齐齿呼合口呼撮口呼 to English   \n",
       "1010         55793             Is the final particle 夫 a fusion of 不乎   \n",
       "361          58728  Why do n endings sound like ng sometimes in Ma...   \n",
       "9324         21876                     Structure X is the most Y of Z   \n",
       "403          33523  ChineseChinese dictionary definitions reusing ...   \n",
       "\n",
       "                                          tags  \n",
       "3683             simplified characters, poetry  \n",
       "1298                               terminology  \n",
       "589                                  phonology  \n",
       "9930                               translation  \n",
       "3082                                 etymology  \n",
       "662                                 difference  \n",
       "901                meaning, meaning in context  \n",
       "3165                                   meaning  \n",
       "9108                               translation  \n",
       "3084                 usage, synonyms, antonyms  \n",
       "9776                                    spoken  \n",
       "190                       word choice, culture  \n",
       "5677           word choice, expressions, usage  \n",
       "11506               etymology, food, loanwords  \n",
       "8879             grammar, meaning, word choice  \n",
       "928                     pinyin, pronounciation  \n",
       "1010            classical chinese, old chinese  \n",
       "361                    mandarin, pronunciation  \n",
       "9324   grammar, sentence structure, comparison  \n",
       "403                                 dictionary  "
      ]
     },
     "execution_count": 91,
     "metadata": {},
     "output_type": "execute_result"
    }
   ],
   "source": [
    "sample_rows(STACK_DF)"
   ]
  },
  {
   "cell_type": "code",
   "execution_count": 92,
   "metadata": {},
   "outputs": [
    {
     "name": "stdout",
     "output_type": "stream",
     "text": [
      "STACK_DF.iloc[4763, 1]: \n",
      "traditional characters, software, fonts\n",
      "traditional characters, software, fonts\n"
     ]
    }
   ],
   "source": [
    "print('STACK_DF.iloc[4763, 1]: ')\n",
    "print(STACK_DF.iloc[4763, 2])\n",
    "# replace - with space in the tags column\n",
    "STACK_DF['tags'] = STACK_DF['tags'].apply(lambda x: re.sub(r'-', ' ', x))\n",
    "print(STACK_DF.iloc[4763, 2])"
   ]
  },
  {
   "cell_type": "code",
   "execution_count": 93,
   "metadata": {},
   "outputs": [
    {
     "name": "stdout",
     "output_type": "stream",
     "text": [
      "<class 'pandas.core.frame.DataFrame'>\n",
      "RangeIndex: 12041 entries, 0 to 12040\n",
      "Data columns (total 2 columns):\n",
      " #   Column  Non-Null Count  Dtype \n",
      "---  ------  --------------  ----- \n",
      " 0   text    12041 non-null  object\n",
      " 1   topic   12041 non-null  object\n",
      "dtypes: object(2)\n",
      "memory usage: 188.3+ KB\n"
     ]
    }
   ],
   "source": [
    "# rename the columns, and only select the title and tags columns\n",
    "STACK_DF = STACK_DF.rename(columns={'title': 'text', 'tags': 'topic'})[['text', 'topic']]\n",
    "STACK_DF.info()"
   ]
  },
  {
   "cell_type": "code",
   "execution_count": 94,
   "metadata": {},
   "outputs": [
    {
     "name": "stdout",
     "output_type": "stream",
     "text": [
      "text                          \n",
      "topic    writing critique, hsk\n",
      "Name: 4957, dtype: object\n",
      "text                          \n",
      "topic    writing critique, hsk\n",
      "Name: 4957, dtype: object\n",
      "<class 'pandas.core.frame.DataFrame'>\n",
      "RangeIndex: 12041 entries, 0 to 12040\n",
      "Data columns (total 2 columns):\n",
      " #   Column  Non-Null Count  Dtype \n",
      "---  ------  --------------  ----- \n",
      " 0   text    12039 non-null  object\n",
      " 1   topic   12041 non-null  object\n",
      "dtypes: object(2)\n",
      "memory usage: 188.3+ KB\n"
     ]
    }
   ],
   "source": [
    "# remove empty strings from the text column\n",
    "print(STACK_DF.iloc[4957, ])\n",
    "STACK_DF['text'] = STACK_DF['text'].apply(lambda x: x.strip())\n",
    "print(STACK_DF.iloc[4957, ])\n",
    "# convert empty strings to NaN\n",
    "STACK_DF['text'] = STACK_DF['text'].replace('', np.nan)\n",
    "STACK_DF.info()"
   ]
  },
  {
   "cell_type": "code",
   "execution_count": 95,
   "metadata": {},
   "outputs": [
    {
     "name": "stdout",
     "output_type": "stream",
     "text": [
      "<class 'pandas.core.frame.DataFrame'>\n",
      "Int64Index: 12039 entries, 0 to 12040\n",
      "Data columns (total 2 columns):\n",
      " #   Column  Non-Null Count  Dtype \n",
      "---  ------  --------------  ----- \n",
      " 0   text    12039 non-null  object\n",
      " 1   topic   12039 non-null  object\n",
      "dtypes: object(2)\n",
      "memory usage: 282.2+ KB\n"
     ]
    }
   ],
   "source": [
    "# drop NaN values if title is empty\n",
    "STACK_DF = STACK_DF.dropna(subset=['text'])\n",
    "STACK_DF.info()"
   ]
  },
  {
   "cell_type": "code",
   "execution_count": 96,
   "metadata": {},
   "outputs": [
    {
     "name": "stdout",
     "output_type": "stream",
     "text": [
      "STACK_DF saved to private/stack_exchange_cleaned.csv\n"
     ]
    }
   ],
   "source": [
    "# save the cleaned df to a csv file\n",
    "STACK_DF.to_csv('private/stack_exchange_cleaned.csv', index=False)\n",
    "print('STACK_DF saved to private/stack_exchange_cleaned.csv')"
   ]
  },
  {
   "cell_type": "code",
   "execution_count": 97,
   "metadata": {},
   "outputs": [
    {
     "name": "stdout",
     "output_type": "stream",
     "text": [
      "First 1000 rows of STACK_DF saved to data_samples/stack_exchange_cleaned_sample.csv\n"
     ]
    }
   ],
   "source": [
    "# save the first 1000 rows of the cleaned df to a csv file for sample \n",
    "STACK_DF.head(1000).to_csv('data_samples/stack_exchange_cleaned_sample.csv', index=False)\n",
    "print('First 1000 rows of STACK_DF saved to data_samples/stack_exchange_cleaned_sample.csv')"
   ]
  },
  {
   "cell_type": "markdown",
   "metadata": {},
   "source": [
    "## 4 Get basic information: cleaned stack exchange dataset\n",
    "\n",
    "The cleaned dataset contains **12,039 entries** with two columns:\n",
    "\n",
    "- **text**: Posts from Stack Exchange (12,039 non-null values, `object` string).\n",
    "- **topic**: General discourse domain of each post (12,039 non-null values, `object` string).\n",
    "\n",
    "Additional information\n",
    "- The `topic` column still needs processing, such as word tokenization or others \n",
    "for topic modeling/clustering. At the moment, it has 3500 combinations using the\n",
    "`value_counts` function.\n",
    "- The text column may still needs further processing, such word tokenization \n",
    "and others. "
   ]
  },
  {
   "cell_type": "code",
   "execution_count": 98,
   "metadata": {},
   "outputs": [
    {
     "data": {
      "text/html": [
       "<div>\n",
       "<style scoped>\n",
       "    .dataframe tbody tr th:only-of-type {\n",
       "        vertical-align: middle;\n",
       "    }\n",
       "\n",
       "    .dataframe tbody tr th {\n",
       "        vertical-align: top;\n",
       "    }\n",
       "\n",
       "    .dataframe thead th {\n",
       "        text-align: right;\n",
       "    }\n",
       "</style>\n",
       "<table border=\"1\" class=\"dataframe\">\n",
       "  <thead>\n",
       "    <tr style=\"text-align: right;\">\n",
       "      <th></th>\n",
       "      <th>text</th>\n",
       "      <th>topic</th>\n",
       "    </tr>\n",
       "  </thead>\n",
       "  <tbody>\n",
       "    <tr>\n",
       "      <th>0</th>\n",
       "      <td>My translation of Li Bai 三五七言</td>\n",
       "      <td>translation, poetry</td>\n",
       "    </tr>\n",
       "    <tr>\n",
       "      <th>1</th>\n",
       "      <td>What do these characters on an antique mural p...</td>\n",
       "      <td>character identification, traditional characte...</td>\n",
       "    </tr>\n",
       "    <tr>\n",
       "      <th>2</th>\n",
       "      <td>Help in translating Li Bai</td>\n",
       "      <td>translation, poetry</td>\n",
       "    </tr>\n",
       "    <tr>\n",
       "      <th>3</th>\n",
       "      <td>purpose of using 了 with 要不</td>\n",
       "      <td>grammar</td>\n",
       "    </tr>\n",
       "    <tr>\n",
       "      <th>4</th>\n",
       "      <td>Why does the character 的 is pronounced differe...</td>\n",
       "      <td>pronunciation, songs</td>\n",
       "    </tr>\n",
       "  </tbody>\n",
       "</table>\n",
       "</div>"
      ],
      "text/plain": [
       "                                                text  \\\n",
       "0                      My translation of Li Bai 三五七言   \n",
       "1  What do these characters on an antique mural p...   \n",
       "2                         Help in translating Li Bai   \n",
       "3                         purpose of using 了 with 要不   \n",
       "4  Why does the character 的 is pronounced differe...   \n",
       "\n",
       "                                               topic  \n",
       "0                                translation, poetry  \n",
       "1  character identification, traditional characte...  \n",
       "2                                translation, poetry  \n",
       "3                                            grammar  \n",
       "4                               pronunciation, songs  "
      ]
     },
     "execution_count": 98,
     "metadata": {},
     "output_type": "execute_result"
    }
   ],
   "source": [
    "CLEANED_STACK_DF = pd.read_csv('private/stack_exchange_cleaned.csv')\n",
    "CLEANED_STACK_DF.head()"
   ]
  },
  {
   "cell_type": "code",
   "execution_count": 99,
   "metadata": {},
   "outputs": [
    {
     "name": "stdout",
     "output_type": "stream",
     "text": [
      "<class 'pandas.core.frame.DataFrame'>\n",
      "RangeIndex: 12039 entries, 0 to 12038\n",
      "Data columns (total 2 columns):\n",
      " #   Column  Non-Null Count  Dtype \n",
      "---  ------  --------------  ----- \n",
      " 0   text    12039 non-null  object\n",
      " 1   topic   12039 non-null  object\n",
      "dtypes: object(2)\n",
      "memory usage: 188.2+ KB\n"
     ]
    }
   ],
   "source": [
    "CLEANED_STACK_DF.info()"
   ]
  },
  {
   "cell_type": "code",
   "execution_count": 100,
   "metadata": {},
   "outputs": [
    {
     "data": {
      "text/plain": [
       "translation                                                            974\n",
       "grammar                                                                601\n",
       "meaning                                                                464\n",
       "meaning in context                                                     238\n",
       "word choice                                                            217\n",
       "                                                                      ... \n",
       "terms of address, formal                                                 1\n",
       "meaning in context, etymology, character identification                  1\n",
       "idioms, colloquialisms                                                   1\n",
       "character identification, traditional characters, seal, old chinese      1\n",
       "translation, style                                                       1\n",
       "Name: topic, Length: 3500, dtype: int64"
      ]
     },
     "execution_count": 100,
     "metadata": {},
     "output_type": "execute_result"
    }
   ],
   "source": [
    "CLEANED_STACK_DF['topic'].value_counts()"
   ]
  },
  {
   "cell_type": "code",
   "execution_count": null,
   "metadata": {},
   "outputs": [],
   "source": []
  }
 ],
 "metadata": {
  "kernelspec": {
   "display_name": "Python 3",
   "language": "python",
   "name": "python3"
  },
  "language_info": {
   "codemirror_mode": {
    "name": "ipython",
    "version": 3
   },
   "file_extension": ".py",
   "mimetype": "text/x-python",
   "name": "python",
   "nbconvert_exporter": "python",
   "pygments_lexer": "ipython3",
   "version": "3.10.4"
  }
 },
 "nbformat": 4,
 "nbformat_minor": 2
}
